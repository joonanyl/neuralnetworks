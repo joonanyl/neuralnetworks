{
  "cells": [
    {
      "cell_type": "markdown",
      "metadata": {
        "id": "4315b743"
      },
      "source": [
        "# Case 1. Heart Disease Classification\n",
        "**Neural Networks for Machine Learning Applications**<br>\n",
        "1.2.2023<br>\n",
        "Team 8. Joona Nylander, Lassi Piispanen, Antti Taponen<br>\n",
        "[Information Technology, Bachelor's Degree](https://www.metropolia.fi/en/academics/bachelors-degrees/information-technology)<br>\n",
        "[Metropolia University of Applied Sciences](https://www.metropolia.fi/en)"
      ],
      "id": "4315b743"
    },
    {
      "cell_type": "markdown",
      "metadata": {
        "id": "3c356735"
      },
      "source": [
        "## 1. Introduction"
      ],
      "id": "3c356735"
    },
    {
      "cell_type": "markdown",
      "metadata": {
        "id": "OUa9m76r19CX"
      },
      "source": [
        "The purpose of this notebook is to document the use of a neural network binary classifier in predicting heart disease based on a set of features in a dataset. The goal is to aim for a high sensitivity without losing specificity."
      ],
      "id": "OUa9m76r19CX"
    },
    {
      "cell_type": "markdown",
      "metadata": {
        "id": "660384ae"
      },
      "source": [
        "## 2. Setup"
      ],
      "id": "660384ae"
    },
    {
      "cell_type": "markdown",
      "metadata": {
        "id": "6eyt73pM1_SU"
      },
      "source": [
        "Check the comments in the code block below for information on the setup."
      ],
      "id": "6eyt73pM1_SU"
    },
    {
      "cell_type": "code",
      "execution_count": null,
      "metadata": {
        "colab": {
          "base_uri": "https://localhost:8080/",
          "height": 73
        },
        "id": "31714627",
        "outputId": "ed4df03e-1556-4fad-b954-3fe7819344e2"
      },
      "outputs": [
        {
          "output_type": "display_data",
          "data": {
            "text/plain": [
              "<IPython.core.display.HTML object>"
            ],
            "text/html": [
              "\n",
              "     <input type=\"file\" id=\"files-3875487f-de75-4078-bc3c-4d0d3e2525fe\" name=\"files[]\" multiple disabled\n",
              "        style=\"border:none\" />\n",
              "     <output id=\"result-3875487f-de75-4078-bc3c-4d0d3e2525fe\">\n",
              "      Upload widget is only available when the cell has been executed in the\n",
              "      current browser session. Please rerun this cell to enable.\n",
              "      </output>\n",
              "      <script>// Copyright 2017 Google LLC\n",
              "//\n",
              "// Licensed under the Apache License, Version 2.0 (the \"License\");\n",
              "// you may not use this file except in compliance with the License.\n",
              "// You may obtain a copy of the License at\n",
              "//\n",
              "//      http://www.apache.org/licenses/LICENSE-2.0\n",
              "//\n",
              "// Unless required by applicable law or agreed to in writing, software\n",
              "// distributed under the License is distributed on an \"AS IS\" BASIS,\n",
              "// WITHOUT WARRANTIES OR CONDITIONS OF ANY KIND, either express or implied.\n",
              "// See the License for the specific language governing permissions and\n",
              "// limitations under the License.\n",
              "\n",
              "/**\n",
              " * @fileoverview Helpers for google.colab Python module.\n",
              " */\n",
              "(function(scope) {\n",
              "function span(text, styleAttributes = {}) {\n",
              "  const element = document.createElement('span');\n",
              "  element.textContent = text;\n",
              "  for (const key of Object.keys(styleAttributes)) {\n",
              "    element.style[key] = styleAttributes[key];\n",
              "  }\n",
              "  return element;\n",
              "}\n",
              "\n",
              "// Max number of bytes which will be uploaded at a time.\n",
              "const MAX_PAYLOAD_SIZE = 100 * 1024;\n",
              "\n",
              "function _uploadFiles(inputId, outputId) {\n",
              "  const steps = uploadFilesStep(inputId, outputId);\n",
              "  const outputElement = document.getElementById(outputId);\n",
              "  // Cache steps on the outputElement to make it available for the next call\n",
              "  // to uploadFilesContinue from Python.\n",
              "  outputElement.steps = steps;\n",
              "\n",
              "  return _uploadFilesContinue(outputId);\n",
              "}\n",
              "\n",
              "// This is roughly an async generator (not supported in the browser yet),\n",
              "// where there are multiple asynchronous steps and the Python side is going\n",
              "// to poll for completion of each step.\n",
              "// This uses a Promise to block the python side on completion of each step,\n",
              "// then passes the result of the previous step as the input to the next step.\n",
              "function _uploadFilesContinue(outputId) {\n",
              "  const outputElement = document.getElementById(outputId);\n",
              "  const steps = outputElement.steps;\n",
              "\n",
              "  const next = steps.next(outputElement.lastPromiseValue);\n",
              "  return Promise.resolve(next.value.promise).then((value) => {\n",
              "    // Cache the last promise value to make it available to the next\n",
              "    // step of the generator.\n",
              "    outputElement.lastPromiseValue = value;\n",
              "    return next.value.response;\n",
              "  });\n",
              "}\n",
              "\n",
              "/**\n",
              " * Generator function which is called between each async step of the upload\n",
              " * process.\n",
              " * @param {string} inputId Element ID of the input file picker element.\n",
              " * @param {string} outputId Element ID of the output display.\n",
              " * @return {!Iterable<!Object>} Iterable of next steps.\n",
              " */\n",
              "function* uploadFilesStep(inputId, outputId) {\n",
              "  const inputElement = document.getElementById(inputId);\n",
              "  inputElement.disabled = false;\n",
              "\n",
              "  const outputElement = document.getElementById(outputId);\n",
              "  outputElement.innerHTML = '';\n",
              "\n",
              "  const pickedPromise = new Promise((resolve) => {\n",
              "    inputElement.addEventListener('change', (e) => {\n",
              "      resolve(e.target.files);\n",
              "    });\n",
              "  });\n",
              "\n",
              "  const cancel = document.createElement('button');\n",
              "  inputElement.parentElement.appendChild(cancel);\n",
              "  cancel.textContent = 'Cancel upload';\n",
              "  const cancelPromise = new Promise((resolve) => {\n",
              "    cancel.onclick = () => {\n",
              "      resolve(null);\n",
              "    };\n",
              "  });\n",
              "\n",
              "  // Wait for the user to pick the files.\n",
              "  const files = yield {\n",
              "    promise: Promise.race([pickedPromise, cancelPromise]),\n",
              "    response: {\n",
              "      action: 'starting',\n",
              "    }\n",
              "  };\n",
              "\n",
              "  cancel.remove();\n",
              "\n",
              "  // Disable the input element since further picks are not allowed.\n",
              "  inputElement.disabled = true;\n",
              "\n",
              "  if (!files) {\n",
              "    return {\n",
              "      response: {\n",
              "        action: 'complete',\n",
              "      }\n",
              "    };\n",
              "  }\n",
              "\n",
              "  for (const file of files) {\n",
              "    const li = document.createElement('li');\n",
              "    li.append(span(file.name, {fontWeight: 'bold'}));\n",
              "    li.append(span(\n",
              "        `(${file.type || 'n/a'}) - ${file.size} bytes, ` +\n",
              "        `last modified: ${\n",
              "            file.lastModifiedDate ? file.lastModifiedDate.toLocaleDateString() :\n",
              "                                    'n/a'} - `));\n",
              "    const percent = span('0% done');\n",
              "    li.appendChild(percent);\n",
              "\n",
              "    outputElement.appendChild(li);\n",
              "\n",
              "    const fileDataPromise = new Promise((resolve) => {\n",
              "      const reader = new FileReader();\n",
              "      reader.onload = (e) => {\n",
              "        resolve(e.target.result);\n",
              "      };\n",
              "      reader.readAsArrayBuffer(file);\n",
              "    });\n",
              "    // Wait for the data to be ready.\n",
              "    let fileData = yield {\n",
              "      promise: fileDataPromise,\n",
              "      response: {\n",
              "        action: 'continue',\n",
              "      }\n",
              "    };\n",
              "\n",
              "    // Use a chunked sending to avoid message size limits. See b/62115660.\n",
              "    let position = 0;\n",
              "    do {\n",
              "      const length = Math.min(fileData.byteLength - position, MAX_PAYLOAD_SIZE);\n",
              "      const chunk = new Uint8Array(fileData, position, length);\n",
              "      position += length;\n",
              "\n",
              "      const base64 = btoa(String.fromCharCode.apply(null, chunk));\n",
              "      yield {\n",
              "        response: {\n",
              "          action: 'append',\n",
              "          file: file.name,\n",
              "          data: base64,\n",
              "        },\n",
              "      };\n",
              "\n",
              "      let percentDone = fileData.byteLength === 0 ?\n",
              "          100 :\n",
              "          Math.round((position / fileData.byteLength) * 100);\n",
              "      percent.textContent = `${percentDone}% done`;\n",
              "\n",
              "    } while (position < fileData.byteLength);\n",
              "  }\n",
              "\n",
              "  // All done.\n",
              "  yield {\n",
              "    response: {\n",
              "      action: 'complete',\n",
              "    }\n",
              "  };\n",
              "}\n",
              "\n",
              "scope.google = scope.google || {};\n",
              "scope.google.colab = scope.google.colab || {};\n",
              "scope.google.colab._files = {\n",
              "  _uploadFiles,\n",
              "  _uploadFilesContinue,\n",
              "};\n",
              "})(self);\n",
              "</script> "
            ]
          },
          "metadata": {}
        },
        {
          "output_type": "stream",
          "name": "stdout",
          "text": [
            "Saving kaggle.json to kaggle.json\n"
          ]
        }
      ],
      "source": [
        "# Prerequisites for using a kaggle dataset\n",
        "! pip install -q kaggle                               #Installing the kaggle package\n",
        "from google.colab import files                        #Importing colab filesystem\n",
        "files.upload()                                        #For uploading kaggle api token\n",
        "\n",
        "import pandas as pd                                   #Handling datasets\n",
        "import tensorflow as tf                               #Building the neural network model\n",
        "import numpy as np                                    #Extra methods to use with arrays\n",
        "import matplotlib.pyplot as plt                       #Plotting tool\n",
        "import seaborn as sns                                 #Plotting tool\n",
        "from sklearn.model_selection import train_test_split  #Splitting of the data\n",
        "from sklearn import preprocessing                     #Gor one-hot-encoding and scaler\n",
        "from sklearn.metrics import confusion_matrix          #To generate confusion matrix"
      ],
      "id": "31714627"
    },
    {
      "cell_type": "markdown",
      "metadata": {
        "id": "d2cfdc64"
      },
      "source": [
        "## 3. Dataset"
      ],
      "id": "d2cfdc64"
    },
    {
      "cell_type": "markdown",
      "metadata": {
        "id": "689f2a6f"
      },
      "source": [
        "The data used in this notebook consists of 21 features and a binary classifier for whether the datapoint is positive for a heart disease. First the data is downloaded from kaggle ([data source](https://www.kaggle.com/code/alexteboul/heart-disease-health-indicators-dataset-notebook/notebook)) to Google colab. The original dataset used by the author of the data we are using in this notebook has been somewhat preprocessed and generally these actions include:\n",
        "*   Dropped missing values\n",
        "*   Some categorical features from  have been transformed into a binary form where possible\n",
        "*   Some categorical features have had irrelevant categories deleted or merged\n",
        "*   Renamed feature names to be more readable\n",
        "\n",
        "The original data is provided by Centers for Disease Control and Prevention (CDC) it is called The Behavioral Risk Factor Surveillance System (BRFSS). It's collected via a phone survey in the United States of America.\n"
      ],
      "id": "689f2a6f"
    },
    {
      "cell_type": "markdown",
      "metadata": {
        "id": "nY-Tdc3zEK5P"
      },
      "source": [
        "####Importing the data from Kaggle into a variable df:"
      ],
      "id": "nY-Tdc3zEK5P"
    },
    {
      "cell_type": "code",
      "execution_count": null,
      "metadata": {
        "id": "8V9mRjZIurUx",
        "colab": {
          "base_uri": "https://localhost:8080/"
        },
        "outputId": "3da8ab3d-d451-4adc-ea07-87c9ff53395c"
      },
      "outputs": [
        {
          "output_type": "stream",
          "name": "stdout",
          "text": [
            "rm: cannot remove '/root/.kaggle': No such file or directory\n",
            "rm: cannot remove 'input': No such file or directory\n",
            "Downloading heart-disease-health-indicators-dataset.zip to /content\n",
            "  0% 0.00/2.66M [00:00<?, ?B/s]\n",
            "100% 2.66M/2.66M [00:00<00:00, 126MB/s]\n",
            "Archive:  heart-disease-health-indicators-dataset.zip\n",
            "  inflating: input/heart_disease_health_indicators_BRFSS2015.csv  \n"
          ]
        }
      ],
      "source": [
        "# Remove previous kaggle directories\n",
        "! rm -r ~/.kaggle\n",
        "\n",
        "# Make directory named kaggle and copy kaggle.json there\n",
        "! mkdir ~/.kaggle\n",
        "! cp ./kaggle.json ~/.kaggle/\n",
        "\n",
        "# Change the permission of the file\n",
        "! chmod 600 ~/.kaggle/kaggle.json\n",
        "\n",
        "# Remove previous versions of dataset files\n",
        "! rm -r input\n",
        "\n",
        "# Case 1 dataset\n",
        "! kaggle datasets download -d alexteboul/heart-disease-health-indicators-dataset\n",
        "! unzip heart-disease-health-indicators-dataset.zip -d input\n",
        "! rm heart-disease-health-indicators-dataset.zip\n",
        "\n",
        "df = pd.read_csv('./input/heart_disease_health_indicators_BRFSS2015.csv')"
      ],
      "id": "8V9mRjZIurUx"
    },
    {
      "cell_type": "markdown",
      "metadata": {
        "id": "L3wAmq5ZEYiQ"
      },
      "source": [
        "Contents of df described:"
      ],
      "id": "L3wAmq5ZEYiQ"
    },
    {
      "cell_type": "code",
      "execution_count": null,
      "metadata": {
        "id": "1bafebb2",
        "colab": {
          "base_uri": "https://localhost:8080/",
          "height": 739
        },
        "outputId": "ef5ce924-ecb0-4e32-8349-af48012ac1b4"
      },
      "outputs": [
        {
          "output_type": "execute_result",
          "data": {
            "text/plain": [
              "                         count       mean       std   min   25%   50%   75%  \\\n",
              "HeartDiseaseorAttack  253680.0   0.094186  0.292087   0.0   0.0   0.0   0.0   \n",
              "HighBP                253680.0   0.429001  0.494934   0.0   0.0   0.0   1.0   \n",
              "HighChol              253680.0   0.424121  0.494210   0.0   0.0   0.0   1.0   \n",
              "CholCheck             253680.0   0.962670  0.189571   0.0   1.0   1.0   1.0   \n",
              "BMI                   253680.0  28.382364  6.608694  12.0  24.0  27.0  31.0   \n",
              "Smoker                253680.0   0.443169  0.496761   0.0   0.0   0.0   1.0   \n",
              "Stroke                253680.0   0.040571  0.197294   0.0   0.0   0.0   0.0   \n",
              "Diabetes              253680.0   0.296921  0.698160   0.0   0.0   0.0   0.0   \n",
              "PhysActivity          253680.0   0.756544  0.429169   0.0   1.0   1.0   1.0   \n",
              "Fruits                253680.0   0.634256  0.481639   0.0   0.0   1.0   1.0   \n",
              "Veggies               253680.0   0.811420  0.391175   0.0   1.0   1.0   1.0   \n",
              "HvyAlcoholConsump     253680.0   0.056197  0.230302   0.0   0.0   0.0   0.0   \n",
              "AnyHealthcare         253680.0   0.951053  0.215759   0.0   1.0   1.0   1.0   \n",
              "NoDocbcCost           253680.0   0.084177  0.277654   0.0   0.0   0.0   0.0   \n",
              "GenHlth               253680.0   2.511392  1.068477   1.0   2.0   2.0   3.0   \n",
              "MentHlth              253680.0   3.184772  7.412847   0.0   0.0   0.0   2.0   \n",
              "PhysHlth              253680.0   4.242081  8.717951   0.0   0.0   0.0   3.0   \n",
              "DiffWalk              253680.0   0.168224  0.374066   0.0   0.0   0.0   0.0   \n",
              "Sex                   253680.0   0.440342  0.496429   0.0   0.0   0.0   1.0   \n",
              "Age                   253680.0   8.032119  3.054220   1.0   6.0   8.0  10.0   \n",
              "Education             253680.0   5.050434  0.985774   1.0   4.0   5.0   6.0   \n",
              "Income                253680.0   6.053875  2.071148   1.0   5.0   7.0   8.0   \n",
              "\n",
              "                       max  \n",
              "HeartDiseaseorAttack   1.0  \n",
              "HighBP                 1.0  \n",
              "HighChol               1.0  \n",
              "CholCheck              1.0  \n",
              "BMI                   98.0  \n",
              "Smoker                 1.0  \n",
              "Stroke                 1.0  \n",
              "Diabetes               2.0  \n",
              "PhysActivity           1.0  \n",
              "Fruits                 1.0  \n",
              "Veggies                1.0  \n",
              "HvyAlcoholConsump      1.0  \n",
              "AnyHealthcare          1.0  \n",
              "NoDocbcCost            1.0  \n",
              "GenHlth                5.0  \n",
              "MentHlth              30.0  \n",
              "PhysHlth              30.0  \n",
              "DiffWalk               1.0  \n",
              "Sex                    1.0  \n",
              "Age                   13.0  \n",
              "Education              6.0  \n",
              "Income                 8.0  "
            ],
            "text/html": [
              "\n",
              "  <div id=\"df-22f83903-444c-4888-b7a8-107a954734ba\">\n",
              "    <div class=\"colab-df-container\">\n",
              "      <div>\n",
              "<style scoped>\n",
              "    .dataframe tbody tr th:only-of-type {\n",
              "        vertical-align: middle;\n",
              "    }\n",
              "\n",
              "    .dataframe tbody tr th {\n",
              "        vertical-align: top;\n",
              "    }\n",
              "\n",
              "    .dataframe thead th {\n",
              "        text-align: right;\n",
              "    }\n",
              "</style>\n",
              "<table border=\"1\" class=\"dataframe\">\n",
              "  <thead>\n",
              "    <tr style=\"text-align: right;\">\n",
              "      <th></th>\n",
              "      <th>count</th>\n",
              "      <th>mean</th>\n",
              "      <th>std</th>\n",
              "      <th>min</th>\n",
              "      <th>25%</th>\n",
              "      <th>50%</th>\n",
              "      <th>75%</th>\n",
              "      <th>max</th>\n",
              "    </tr>\n",
              "  </thead>\n",
              "  <tbody>\n",
              "    <tr>\n",
              "      <th>HeartDiseaseorAttack</th>\n",
              "      <td>253680.0</td>\n",
              "      <td>0.094186</td>\n",
              "      <td>0.292087</td>\n",
              "      <td>0.0</td>\n",
              "      <td>0.0</td>\n",
              "      <td>0.0</td>\n",
              "      <td>0.0</td>\n",
              "      <td>1.0</td>\n",
              "    </tr>\n",
              "    <tr>\n",
              "      <th>HighBP</th>\n",
              "      <td>253680.0</td>\n",
              "      <td>0.429001</td>\n",
              "      <td>0.494934</td>\n",
              "      <td>0.0</td>\n",
              "      <td>0.0</td>\n",
              "      <td>0.0</td>\n",
              "      <td>1.0</td>\n",
              "      <td>1.0</td>\n",
              "    </tr>\n",
              "    <tr>\n",
              "      <th>HighChol</th>\n",
              "      <td>253680.0</td>\n",
              "      <td>0.424121</td>\n",
              "      <td>0.494210</td>\n",
              "      <td>0.0</td>\n",
              "      <td>0.0</td>\n",
              "      <td>0.0</td>\n",
              "      <td>1.0</td>\n",
              "      <td>1.0</td>\n",
              "    </tr>\n",
              "    <tr>\n",
              "      <th>CholCheck</th>\n",
              "      <td>253680.0</td>\n",
              "      <td>0.962670</td>\n",
              "      <td>0.189571</td>\n",
              "      <td>0.0</td>\n",
              "      <td>1.0</td>\n",
              "      <td>1.0</td>\n",
              "      <td>1.0</td>\n",
              "      <td>1.0</td>\n",
              "    </tr>\n",
              "    <tr>\n",
              "      <th>BMI</th>\n",
              "      <td>253680.0</td>\n",
              "      <td>28.382364</td>\n",
              "      <td>6.608694</td>\n",
              "      <td>12.0</td>\n",
              "      <td>24.0</td>\n",
              "      <td>27.0</td>\n",
              "      <td>31.0</td>\n",
              "      <td>98.0</td>\n",
              "    </tr>\n",
              "    <tr>\n",
              "      <th>Smoker</th>\n",
              "      <td>253680.0</td>\n",
              "      <td>0.443169</td>\n",
              "      <td>0.496761</td>\n",
              "      <td>0.0</td>\n",
              "      <td>0.0</td>\n",
              "      <td>0.0</td>\n",
              "      <td>1.0</td>\n",
              "      <td>1.0</td>\n",
              "    </tr>\n",
              "    <tr>\n",
              "      <th>Stroke</th>\n",
              "      <td>253680.0</td>\n",
              "      <td>0.040571</td>\n",
              "      <td>0.197294</td>\n",
              "      <td>0.0</td>\n",
              "      <td>0.0</td>\n",
              "      <td>0.0</td>\n",
              "      <td>0.0</td>\n",
              "      <td>1.0</td>\n",
              "    </tr>\n",
              "    <tr>\n",
              "      <th>Diabetes</th>\n",
              "      <td>253680.0</td>\n",
              "      <td>0.296921</td>\n",
              "      <td>0.698160</td>\n",
              "      <td>0.0</td>\n",
              "      <td>0.0</td>\n",
              "      <td>0.0</td>\n",
              "      <td>0.0</td>\n",
              "      <td>2.0</td>\n",
              "    </tr>\n",
              "    <tr>\n",
              "      <th>PhysActivity</th>\n",
              "      <td>253680.0</td>\n",
              "      <td>0.756544</td>\n",
              "      <td>0.429169</td>\n",
              "      <td>0.0</td>\n",
              "      <td>1.0</td>\n",
              "      <td>1.0</td>\n",
              "      <td>1.0</td>\n",
              "      <td>1.0</td>\n",
              "    </tr>\n",
              "    <tr>\n",
              "      <th>Fruits</th>\n",
              "      <td>253680.0</td>\n",
              "      <td>0.634256</td>\n",
              "      <td>0.481639</td>\n",
              "      <td>0.0</td>\n",
              "      <td>0.0</td>\n",
              "      <td>1.0</td>\n",
              "      <td>1.0</td>\n",
              "      <td>1.0</td>\n",
              "    </tr>\n",
              "    <tr>\n",
              "      <th>Veggies</th>\n",
              "      <td>253680.0</td>\n",
              "      <td>0.811420</td>\n",
              "      <td>0.391175</td>\n",
              "      <td>0.0</td>\n",
              "      <td>1.0</td>\n",
              "      <td>1.0</td>\n",
              "      <td>1.0</td>\n",
              "      <td>1.0</td>\n",
              "    </tr>\n",
              "    <tr>\n",
              "      <th>HvyAlcoholConsump</th>\n",
              "      <td>253680.0</td>\n",
              "      <td>0.056197</td>\n",
              "      <td>0.230302</td>\n",
              "      <td>0.0</td>\n",
              "      <td>0.0</td>\n",
              "      <td>0.0</td>\n",
              "      <td>0.0</td>\n",
              "      <td>1.0</td>\n",
              "    </tr>\n",
              "    <tr>\n",
              "      <th>AnyHealthcare</th>\n",
              "      <td>253680.0</td>\n",
              "      <td>0.951053</td>\n",
              "      <td>0.215759</td>\n",
              "      <td>0.0</td>\n",
              "      <td>1.0</td>\n",
              "      <td>1.0</td>\n",
              "      <td>1.0</td>\n",
              "      <td>1.0</td>\n",
              "    </tr>\n",
              "    <tr>\n",
              "      <th>NoDocbcCost</th>\n",
              "      <td>253680.0</td>\n",
              "      <td>0.084177</td>\n",
              "      <td>0.277654</td>\n",
              "      <td>0.0</td>\n",
              "      <td>0.0</td>\n",
              "      <td>0.0</td>\n",
              "      <td>0.0</td>\n",
              "      <td>1.0</td>\n",
              "    </tr>\n",
              "    <tr>\n",
              "      <th>GenHlth</th>\n",
              "      <td>253680.0</td>\n",
              "      <td>2.511392</td>\n",
              "      <td>1.068477</td>\n",
              "      <td>1.0</td>\n",
              "      <td>2.0</td>\n",
              "      <td>2.0</td>\n",
              "      <td>3.0</td>\n",
              "      <td>5.0</td>\n",
              "    </tr>\n",
              "    <tr>\n",
              "      <th>MentHlth</th>\n",
              "      <td>253680.0</td>\n",
              "      <td>3.184772</td>\n",
              "      <td>7.412847</td>\n",
              "      <td>0.0</td>\n",
              "      <td>0.0</td>\n",
              "      <td>0.0</td>\n",
              "      <td>2.0</td>\n",
              "      <td>30.0</td>\n",
              "    </tr>\n",
              "    <tr>\n",
              "      <th>PhysHlth</th>\n",
              "      <td>253680.0</td>\n",
              "      <td>4.242081</td>\n",
              "      <td>8.717951</td>\n",
              "      <td>0.0</td>\n",
              "      <td>0.0</td>\n",
              "      <td>0.0</td>\n",
              "      <td>3.0</td>\n",
              "      <td>30.0</td>\n",
              "    </tr>\n",
              "    <tr>\n",
              "      <th>DiffWalk</th>\n",
              "      <td>253680.0</td>\n",
              "      <td>0.168224</td>\n",
              "      <td>0.374066</td>\n",
              "      <td>0.0</td>\n",
              "      <td>0.0</td>\n",
              "      <td>0.0</td>\n",
              "      <td>0.0</td>\n",
              "      <td>1.0</td>\n",
              "    </tr>\n",
              "    <tr>\n",
              "      <th>Sex</th>\n",
              "      <td>253680.0</td>\n",
              "      <td>0.440342</td>\n",
              "      <td>0.496429</td>\n",
              "      <td>0.0</td>\n",
              "      <td>0.0</td>\n",
              "      <td>0.0</td>\n",
              "      <td>1.0</td>\n",
              "      <td>1.0</td>\n",
              "    </tr>\n",
              "    <tr>\n",
              "      <th>Age</th>\n",
              "      <td>253680.0</td>\n",
              "      <td>8.032119</td>\n",
              "      <td>3.054220</td>\n",
              "      <td>1.0</td>\n",
              "      <td>6.0</td>\n",
              "      <td>8.0</td>\n",
              "      <td>10.0</td>\n",
              "      <td>13.0</td>\n",
              "    </tr>\n",
              "    <tr>\n",
              "      <th>Education</th>\n",
              "      <td>253680.0</td>\n",
              "      <td>5.050434</td>\n",
              "      <td>0.985774</td>\n",
              "      <td>1.0</td>\n",
              "      <td>4.0</td>\n",
              "      <td>5.0</td>\n",
              "      <td>6.0</td>\n",
              "      <td>6.0</td>\n",
              "    </tr>\n",
              "    <tr>\n",
              "      <th>Income</th>\n",
              "      <td>253680.0</td>\n",
              "      <td>6.053875</td>\n",
              "      <td>2.071148</td>\n",
              "      <td>1.0</td>\n",
              "      <td>5.0</td>\n",
              "      <td>7.0</td>\n",
              "      <td>8.0</td>\n",
              "      <td>8.0</td>\n",
              "    </tr>\n",
              "  </tbody>\n",
              "</table>\n",
              "</div>\n",
              "      <button class=\"colab-df-convert\" onclick=\"convertToInteractive('df-22f83903-444c-4888-b7a8-107a954734ba')\"\n",
              "              title=\"Convert this dataframe to an interactive table.\"\n",
              "              style=\"display:none;\">\n",
              "        \n",
              "  <svg xmlns=\"http://www.w3.org/2000/svg\" height=\"24px\"viewBox=\"0 0 24 24\"\n",
              "       width=\"24px\">\n",
              "    <path d=\"M0 0h24v24H0V0z\" fill=\"none\"/>\n",
              "    <path d=\"M18.56 5.44l.94 2.06.94-2.06 2.06-.94-2.06-.94-.94-2.06-.94 2.06-2.06.94zm-11 1L8.5 8.5l.94-2.06 2.06-.94-2.06-.94L8.5 2.5l-.94 2.06-2.06.94zm10 10l.94 2.06.94-2.06 2.06-.94-2.06-.94-.94-2.06-.94 2.06-2.06.94z\"/><path d=\"M17.41 7.96l-1.37-1.37c-.4-.4-.92-.59-1.43-.59-.52 0-1.04.2-1.43.59L10.3 9.45l-7.72 7.72c-.78.78-.78 2.05 0 2.83L4 21.41c.39.39.9.59 1.41.59.51 0 1.02-.2 1.41-.59l7.78-7.78 2.81-2.81c.8-.78.8-2.07 0-2.86zM5.41 20L4 18.59l7.72-7.72 1.47 1.35L5.41 20z\"/>\n",
              "  </svg>\n",
              "      </button>\n",
              "      \n",
              "  <style>\n",
              "    .colab-df-container {\n",
              "      display:flex;\n",
              "      flex-wrap:wrap;\n",
              "      gap: 12px;\n",
              "    }\n",
              "\n",
              "    .colab-df-convert {\n",
              "      background-color: #E8F0FE;\n",
              "      border: none;\n",
              "      border-radius: 50%;\n",
              "      cursor: pointer;\n",
              "      display: none;\n",
              "      fill: #1967D2;\n",
              "      height: 32px;\n",
              "      padding: 0 0 0 0;\n",
              "      width: 32px;\n",
              "    }\n",
              "\n",
              "    .colab-df-convert:hover {\n",
              "      background-color: #E2EBFA;\n",
              "      box-shadow: 0px 1px 2px rgba(60, 64, 67, 0.3), 0px 1px 3px 1px rgba(60, 64, 67, 0.15);\n",
              "      fill: #174EA6;\n",
              "    }\n",
              "\n",
              "    [theme=dark] .colab-df-convert {\n",
              "      background-color: #3B4455;\n",
              "      fill: #D2E3FC;\n",
              "    }\n",
              "\n",
              "    [theme=dark] .colab-df-convert:hover {\n",
              "      background-color: #434B5C;\n",
              "      box-shadow: 0px 1px 3px 1px rgba(0, 0, 0, 0.15);\n",
              "      filter: drop-shadow(0px 1px 2px rgba(0, 0, 0, 0.3));\n",
              "      fill: #FFFFFF;\n",
              "    }\n",
              "  </style>\n",
              "\n",
              "      <script>\n",
              "        const buttonEl =\n",
              "          document.querySelector('#df-22f83903-444c-4888-b7a8-107a954734ba button.colab-df-convert');\n",
              "        buttonEl.style.display =\n",
              "          google.colab.kernel.accessAllowed ? 'block' : 'none';\n",
              "\n",
              "        async function convertToInteractive(key) {\n",
              "          const element = document.querySelector('#df-22f83903-444c-4888-b7a8-107a954734ba');\n",
              "          const dataTable =\n",
              "            await google.colab.kernel.invokeFunction('convertToInteractive',\n",
              "                                                     [key], {});\n",
              "          if (!dataTable) return;\n",
              "\n",
              "          const docLinkHtml = 'Like what you see? Visit the ' +\n",
              "            '<a target=\"_blank\" href=https://colab.research.google.com/notebooks/data_table.ipynb>data table notebook</a>'\n",
              "            + ' to learn more about interactive tables.';\n",
              "          element.innerHTML = '';\n",
              "          dataTable['output_type'] = 'display_data';\n",
              "          await google.colab.output.renderOutput(dataTable, element);\n",
              "          const docLink = document.createElement('div');\n",
              "          docLink.innerHTML = docLinkHtml;\n",
              "          element.appendChild(docLink);\n",
              "        }\n",
              "      </script>\n",
              "    </div>\n",
              "  </div>\n",
              "  "
            ]
          },
          "metadata": {},
          "execution_count": 3
        }
      ],
      "source": [
        "df.describe().T"
      ],
      "id": "1bafebb2"
    },
    {
      "cell_type": "markdown",
      "metadata": {
        "id": "R_H7jwC0Ee7_"
      },
      "source": [
        "A glance at what the feature values actually look like:"
      ],
      "id": "R_H7jwC0Ee7_"
    },
    {
      "cell_type": "code",
      "execution_count": null,
      "metadata": {
        "id": "NYYiIblBqMq8",
        "colab": {
          "base_uri": "https://localhost:8080/",
          "height": 708
        },
        "outputId": "266ba02b-171d-4ffe-cee5-5fb6e9087d6c"
      },
      "outputs": [
        {
          "output_type": "execute_result",
          "data": {
            "text/plain": [
              "                      0     1     2     3     4     5     6     7     8     9\n",
              "HighBP              1.0   0.0   1.0   1.0   1.0   1.0   1.0   1.0   1.0   0.0\n",
              "HighChol            1.0   0.0   1.0   0.0   1.0   1.0   0.0   1.0   1.0   0.0\n",
              "CholCheck           1.0   0.0   1.0   1.0   1.0   1.0   1.0   1.0   1.0   1.0\n",
              "BMI                40.0  25.0  28.0  27.0  24.0  25.0  30.0  25.0  30.0  24.0\n",
              "Smoker              1.0   1.0   0.0   0.0   0.0   1.0   1.0   1.0   1.0   0.0\n",
              "Stroke              0.0   0.0   0.0   0.0   0.0   0.0   0.0   0.0   0.0   0.0\n",
              "Diabetes            0.0   0.0   0.0   0.0   0.0   0.0   0.0   0.0   2.0   0.0\n",
              "PhysActivity        0.0   1.0   0.0   1.0   1.0   1.0   0.0   1.0   0.0   0.0\n",
              "Fruits              0.0   0.0   1.0   1.0   1.0   1.0   0.0   0.0   1.0   0.0\n",
              "Veggies             1.0   0.0   0.0   1.0   1.0   1.0   0.0   1.0   1.0   1.0\n",
              "HvyAlcoholConsump   0.0   0.0   0.0   0.0   0.0   0.0   0.0   0.0   0.0   0.0\n",
              "AnyHealthcare       1.0   0.0   1.0   1.0   1.0   1.0   1.0   1.0   1.0   1.0\n",
              "NoDocbcCost         0.0   1.0   1.0   0.0   0.0   0.0   0.0   0.0   0.0   0.0\n",
              "GenHlth             5.0   3.0   5.0   2.0   2.0   2.0   3.0   3.0   5.0   2.0\n",
              "MentHlth           18.0   0.0  30.0   0.0   3.0   0.0   0.0   0.0  30.0   0.0\n",
              "PhysHlth           15.0   0.0  30.0   0.0   0.0   2.0  14.0   0.0  30.0   0.0\n",
              "DiffWalk            1.0   0.0   1.0   0.0   0.0   0.0   0.0   1.0   1.0   0.0\n",
              "Sex                 0.0   0.0   0.0   0.0   0.0   1.0   0.0   0.0   0.0   1.0\n",
              "Age                 9.0   7.0   9.0  11.0  11.0  10.0   9.0  11.0   9.0   8.0\n",
              "Education           4.0   6.0   4.0   3.0   5.0   6.0   6.0   4.0   5.0   4.0\n",
              "Income              3.0   1.0   8.0   6.0   4.0   8.0   7.0   4.0   1.0   3.0"
            ],
            "text/html": [
              "\n",
              "  <div id=\"df-f711fdc9-c0e7-40d6-a544-e55eb319deb6\">\n",
              "    <div class=\"colab-df-container\">\n",
              "      <div>\n",
              "<style scoped>\n",
              "    .dataframe tbody tr th:only-of-type {\n",
              "        vertical-align: middle;\n",
              "    }\n",
              "\n",
              "    .dataframe tbody tr th {\n",
              "        vertical-align: top;\n",
              "    }\n",
              "\n",
              "    .dataframe thead th {\n",
              "        text-align: right;\n",
              "    }\n",
              "</style>\n",
              "<table border=\"1\" class=\"dataframe\">\n",
              "  <thead>\n",
              "    <tr style=\"text-align: right;\">\n",
              "      <th></th>\n",
              "      <th>0</th>\n",
              "      <th>1</th>\n",
              "      <th>2</th>\n",
              "      <th>3</th>\n",
              "      <th>4</th>\n",
              "      <th>5</th>\n",
              "      <th>6</th>\n",
              "      <th>7</th>\n",
              "      <th>8</th>\n",
              "      <th>9</th>\n",
              "    </tr>\n",
              "  </thead>\n",
              "  <tbody>\n",
              "    <tr>\n",
              "      <th>HighBP</th>\n",
              "      <td>1.0</td>\n",
              "      <td>0.0</td>\n",
              "      <td>1.0</td>\n",
              "      <td>1.0</td>\n",
              "      <td>1.0</td>\n",
              "      <td>1.0</td>\n",
              "      <td>1.0</td>\n",
              "      <td>1.0</td>\n",
              "      <td>1.0</td>\n",
              "      <td>0.0</td>\n",
              "    </tr>\n",
              "    <tr>\n",
              "      <th>HighChol</th>\n",
              "      <td>1.0</td>\n",
              "      <td>0.0</td>\n",
              "      <td>1.0</td>\n",
              "      <td>0.0</td>\n",
              "      <td>1.0</td>\n",
              "      <td>1.0</td>\n",
              "      <td>0.0</td>\n",
              "      <td>1.0</td>\n",
              "      <td>1.0</td>\n",
              "      <td>0.0</td>\n",
              "    </tr>\n",
              "    <tr>\n",
              "      <th>CholCheck</th>\n",
              "      <td>1.0</td>\n",
              "      <td>0.0</td>\n",
              "      <td>1.0</td>\n",
              "      <td>1.0</td>\n",
              "      <td>1.0</td>\n",
              "      <td>1.0</td>\n",
              "      <td>1.0</td>\n",
              "      <td>1.0</td>\n",
              "      <td>1.0</td>\n",
              "      <td>1.0</td>\n",
              "    </tr>\n",
              "    <tr>\n",
              "      <th>BMI</th>\n",
              "      <td>40.0</td>\n",
              "      <td>25.0</td>\n",
              "      <td>28.0</td>\n",
              "      <td>27.0</td>\n",
              "      <td>24.0</td>\n",
              "      <td>25.0</td>\n",
              "      <td>30.0</td>\n",
              "      <td>25.0</td>\n",
              "      <td>30.0</td>\n",
              "      <td>24.0</td>\n",
              "    </tr>\n",
              "    <tr>\n",
              "      <th>Smoker</th>\n",
              "      <td>1.0</td>\n",
              "      <td>1.0</td>\n",
              "      <td>0.0</td>\n",
              "      <td>0.0</td>\n",
              "      <td>0.0</td>\n",
              "      <td>1.0</td>\n",
              "      <td>1.0</td>\n",
              "      <td>1.0</td>\n",
              "      <td>1.0</td>\n",
              "      <td>0.0</td>\n",
              "    </tr>\n",
              "    <tr>\n",
              "      <th>Stroke</th>\n",
              "      <td>0.0</td>\n",
              "      <td>0.0</td>\n",
              "      <td>0.0</td>\n",
              "      <td>0.0</td>\n",
              "      <td>0.0</td>\n",
              "      <td>0.0</td>\n",
              "      <td>0.0</td>\n",
              "      <td>0.0</td>\n",
              "      <td>0.0</td>\n",
              "      <td>0.0</td>\n",
              "    </tr>\n",
              "    <tr>\n",
              "      <th>Diabetes</th>\n",
              "      <td>0.0</td>\n",
              "      <td>0.0</td>\n",
              "      <td>0.0</td>\n",
              "      <td>0.0</td>\n",
              "      <td>0.0</td>\n",
              "      <td>0.0</td>\n",
              "      <td>0.0</td>\n",
              "      <td>0.0</td>\n",
              "      <td>2.0</td>\n",
              "      <td>0.0</td>\n",
              "    </tr>\n",
              "    <tr>\n",
              "      <th>PhysActivity</th>\n",
              "      <td>0.0</td>\n",
              "      <td>1.0</td>\n",
              "      <td>0.0</td>\n",
              "      <td>1.0</td>\n",
              "      <td>1.0</td>\n",
              "      <td>1.0</td>\n",
              "      <td>0.0</td>\n",
              "      <td>1.0</td>\n",
              "      <td>0.0</td>\n",
              "      <td>0.0</td>\n",
              "    </tr>\n",
              "    <tr>\n",
              "      <th>Fruits</th>\n",
              "      <td>0.0</td>\n",
              "      <td>0.0</td>\n",
              "      <td>1.0</td>\n",
              "      <td>1.0</td>\n",
              "      <td>1.0</td>\n",
              "      <td>1.0</td>\n",
              "      <td>0.0</td>\n",
              "      <td>0.0</td>\n",
              "      <td>1.0</td>\n",
              "      <td>0.0</td>\n",
              "    </tr>\n",
              "    <tr>\n",
              "      <th>Veggies</th>\n",
              "      <td>1.0</td>\n",
              "      <td>0.0</td>\n",
              "      <td>0.0</td>\n",
              "      <td>1.0</td>\n",
              "      <td>1.0</td>\n",
              "      <td>1.0</td>\n",
              "      <td>0.0</td>\n",
              "      <td>1.0</td>\n",
              "      <td>1.0</td>\n",
              "      <td>1.0</td>\n",
              "    </tr>\n",
              "    <tr>\n",
              "      <th>HvyAlcoholConsump</th>\n",
              "      <td>0.0</td>\n",
              "      <td>0.0</td>\n",
              "      <td>0.0</td>\n",
              "      <td>0.0</td>\n",
              "      <td>0.0</td>\n",
              "      <td>0.0</td>\n",
              "      <td>0.0</td>\n",
              "      <td>0.0</td>\n",
              "      <td>0.0</td>\n",
              "      <td>0.0</td>\n",
              "    </tr>\n",
              "    <tr>\n",
              "      <th>AnyHealthcare</th>\n",
              "      <td>1.0</td>\n",
              "      <td>0.0</td>\n",
              "      <td>1.0</td>\n",
              "      <td>1.0</td>\n",
              "      <td>1.0</td>\n",
              "      <td>1.0</td>\n",
              "      <td>1.0</td>\n",
              "      <td>1.0</td>\n",
              "      <td>1.0</td>\n",
              "      <td>1.0</td>\n",
              "    </tr>\n",
              "    <tr>\n",
              "      <th>NoDocbcCost</th>\n",
              "      <td>0.0</td>\n",
              "      <td>1.0</td>\n",
              "      <td>1.0</td>\n",
              "      <td>0.0</td>\n",
              "      <td>0.0</td>\n",
              "      <td>0.0</td>\n",
              "      <td>0.0</td>\n",
              "      <td>0.0</td>\n",
              "      <td>0.0</td>\n",
              "      <td>0.0</td>\n",
              "    </tr>\n",
              "    <tr>\n",
              "      <th>GenHlth</th>\n",
              "      <td>5.0</td>\n",
              "      <td>3.0</td>\n",
              "      <td>5.0</td>\n",
              "      <td>2.0</td>\n",
              "      <td>2.0</td>\n",
              "      <td>2.0</td>\n",
              "      <td>3.0</td>\n",
              "      <td>3.0</td>\n",
              "      <td>5.0</td>\n",
              "      <td>2.0</td>\n",
              "    </tr>\n",
              "    <tr>\n",
              "      <th>MentHlth</th>\n",
              "      <td>18.0</td>\n",
              "      <td>0.0</td>\n",
              "      <td>30.0</td>\n",
              "      <td>0.0</td>\n",
              "      <td>3.0</td>\n",
              "      <td>0.0</td>\n",
              "      <td>0.0</td>\n",
              "      <td>0.0</td>\n",
              "      <td>30.0</td>\n",
              "      <td>0.0</td>\n",
              "    </tr>\n",
              "    <tr>\n",
              "      <th>PhysHlth</th>\n",
              "      <td>15.0</td>\n",
              "      <td>0.0</td>\n",
              "      <td>30.0</td>\n",
              "      <td>0.0</td>\n",
              "      <td>0.0</td>\n",
              "      <td>2.0</td>\n",
              "      <td>14.0</td>\n",
              "      <td>0.0</td>\n",
              "      <td>30.0</td>\n",
              "      <td>0.0</td>\n",
              "    </tr>\n",
              "    <tr>\n",
              "      <th>DiffWalk</th>\n",
              "      <td>1.0</td>\n",
              "      <td>0.0</td>\n",
              "      <td>1.0</td>\n",
              "      <td>0.0</td>\n",
              "      <td>0.0</td>\n",
              "      <td>0.0</td>\n",
              "      <td>0.0</td>\n",
              "      <td>1.0</td>\n",
              "      <td>1.0</td>\n",
              "      <td>0.0</td>\n",
              "    </tr>\n",
              "    <tr>\n",
              "      <th>Sex</th>\n",
              "      <td>0.0</td>\n",
              "      <td>0.0</td>\n",
              "      <td>0.0</td>\n",
              "      <td>0.0</td>\n",
              "      <td>0.0</td>\n",
              "      <td>1.0</td>\n",
              "      <td>0.0</td>\n",
              "      <td>0.0</td>\n",
              "      <td>0.0</td>\n",
              "      <td>1.0</td>\n",
              "    </tr>\n",
              "    <tr>\n",
              "      <th>Age</th>\n",
              "      <td>9.0</td>\n",
              "      <td>7.0</td>\n",
              "      <td>9.0</td>\n",
              "      <td>11.0</td>\n",
              "      <td>11.0</td>\n",
              "      <td>10.0</td>\n",
              "      <td>9.0</td>\n",
              "      <td>11.0</td>\n",
              "      <td>9.0</td>\n",
              "      <td>8.0</td>\n",
              "    </tr>\n",
              "    <tr>\n",
              "      <th>Education</th>\n",
              "      <td>4.0</td>\n",
              "      <td>6.0</td>\n",
              "      <td>4.0</td>\n",
              "      <td>3.0</td>\n",
              "      <td>5.0</td>\n",
              "      <td>6.0</td>\n",
              "      <td>6.0</td>\n",
              "      <td>4.0</td>\n",
              "      <td>5.0</td>\n",
              "      <td>4.0</td>\n",
              "    </tr>\n",
              "    <tr>\n",
              "      <th>Income</th>\n",
              "      <td>3.0</td>\n",
              "      <td>1.0</td>\n",
              "      <td>8.0</td>\n",
              "      <td>6.0</td>\n",
              "      <td>4.0</td>\n",
              "      <td>8.0</td>\n",
              "      <td>7.0</td>\n",
              "      <td>4.0</td>\n",
              "      <td>1.0</td>\n",
              "      <td>3.0</td>\n",
              "    </tr>\n",
              "  </tbody>\n",
              "</table>\n",
              "</div>\n",
              "      <button class=\"colab-df-convert\" onclick=\"convertToInteractive('df-f711fdc9-c0e7-40d6-a544-e55eb319deb6')\"\n",
              "              title=\"Convert this dataframe to an interactive table.\"\n",
              "              style=\"display:none;\">\n",
              "        \n",
              "  <svg xmlns=\"http://www.w3.org/2000/svg\" height=\"24px\"viewBox=\"0 0 24 24\"\n",
              "       width=\"24px\">\n",
              "    <path d=\"M0 0h24v24H0V0z\" fill=\"none\"/>\n",
              "    <path d=\"M18.56 5.44l.94 2.06.94-2.06 2.06-.94-2.06-.94-.94-2.06-.94 2.06-2.06.94zm-11 1L8.5 8.5l.94-2.06 2.06-.94-2.06-.94L8.5 2.5l-.94 2.06-2.06.94zm10 10l.94 2.06.94-2.06 2.06-.94-2.06-.94-.94-2.06-.94 2.06-2.06.94z\"/><path d=\"M17.41 7.96l-1.37-1.37c-.4-.4-.92-.59-1.43-.59-.52 0-1.04.2-1.43.59L10.3 9.45l-7.72 7.72c-.78.78-.78 2.05 0 2.83L4 21.41c.39.39.9.59 1.41.59.51 0 1.02-.2 1.41-.59l7.78-7.78 2.81-2.81c.8-.78.8-2.07 0-2.86zM5.41 20L4 18.59l7.72-7.72 1.47 1.35L5.41 20z\"/>\n",
              "  </svg>\n",
              "      </button>\n",
              "      \n",
              "  <style>\n",
              "    .colab-df-container {\n",
              "      display:flex;\n",
              "      flex-wrap:wrap;\n",
              "      gap: 12px;\n",
              "    }\n",
              "\n",
              "    .colab-df-convert {\n",
              "      background-color: #E8F0FE;\n",
              "      border: none;\n",
              "      border-radius: 50%;\n",
              "      cursor: pointer;\n",
              "      display: none;\n",
              "      fill: #1967D2;\n",
              "      height: 32px;\n",
              "      padding: 0 0 0 0;\n",
              "      width: 32px;\n",
              "    }\n",
              "\n",
              "    .colab-df-convert:hover {\n",
              "      background-color: #E2EBFA;\n",
              "      box-shadow: 0px 1px 2px rgba(60, 64, 67, 0.3), 0px 1px 3px 1px rgba(60, 64, 67, 0.15);\n",
              "      fill: #174EA6;\n",
              "    }\n",
              "\n",
              "    [theme=dark] .colab-df-convert {\n",
              "      background-color: #3B4455;\n",
              "      fill: #D2E3FC;\n",
              "    }\n",
              "\n",
              "    [theme=dark] .colab-df-convert:hover {\n",
              "      background-color: #434B5C;\n",
              "      box-shadow: 0px 1px 3px 1px rgba(0, 0, 0, 0.15);\n",
              "      filter: drop-shadow(0px 1px 2px rgba(0, 0, 0, 0.3));\n",
              "      fill: #FFFFFF;\n",
              "    }\n",
              "  </style>\n",
              "\n",
              "      <script>\n",
              "        const buttonEl =\n",
              "          document.querySelector('#df-f711fdc9-c0e7-40d6-a544-e55eb319deb6 button.colab-df-convert');\n",
              "        buttonEl.style.display =\n",
              "          google.colab.kernel.accessAllowed ? 'block' : 'none';\n",
              "\n",
              "        async function convertToInteractive(key) {\n",
              "          const element = document.querySelector('#df-f711fdc9-c0e7-40d6-a544-e55eb319deb6');\n",
              "          const dataTable =\n",
              "            await google.colab.kernel.invokeFunction('convertToInteractive',\n",
              "                                                     [key], {});\n",
              "          if (!dataTable) return;\n",
              "\n",
              "          const docLinkHtml = 'Like what you see? Visit the ' +\n",
              "            '<a target=\"_blank\" href=https://colab.research.google.com/notebooks/data_table.ipynb>data table notebook</a>'\n",
              "            + ' to learn more about interactive tables.';\n",
              "          element.innerHTML = '';\n",
              "          dataTable['output_type'] = 'display_data';\n",
              "          await google.colab.output.renderOutput(dataTable, element);\n",
              "          const docLink = document.createElement('div');\n",
              "          docLink.innerHTML = docLinkHtml;\n",
              "          element.appendChild(docLink);\n",
              "        }\n",
              "      </script>\n",
              "    </div>\n",
              "  </div>\n",
              "  "
            ]
          },
          "metadata": {},
          "execution_count": 4
        }
      ],
      "source": [
        "features = df.drop(['HeartDiseaseorAttack'], axis = 1)\n",
        "features.head(10).T"
      ],
      "id": "NYYiIblBqMq8"
    },
    {
      "cell_type": "markdown",
      "metadata": {
        "id": "86CiSm3-ErKF"
      },
      "source": [
        "The counts for each feature's unique values are listed to ease the sorting."
      ],
      "id": "86CiSm3-ErKF"
    },
    {
      "cell_type": "code",
      "execution_count": null,
      "metadata": {
        "id": "wVFyTezcqzeg",
        "colab": {
          "base_uri": "https://localhost:8080/"
        },
        "outputId": "48436e2f-8726-4e4c-b083-88b73cb85f17"
      },
      "outputs": [
        {
          "output_type": "stream",
          "name": "stdout",
          "text": [
            "\n",
            "HeartDiseaseorAttack contains 2 values\n",
            "\n",
            "HighBP contains 2 values\n",
            "\n",
            "HighChol contains 2 values\n",
            "\n",
            "CholCheck contains 2 values\n",
            "\n",
            "BMI contains 84 values\n",
            "\n",
            "Smoker contains 2 values\n",
            "\n",
            "Stroke contains 2 values\n",
            "\n",
            "Diabetes contains 3 values\n",
            "\n",
            "PhysActivity contains 2 values\n",
            "\n",
            "Fruits contains 2 values\n",
            "\n",
            "Veggies contains 2 values\n",
            "\n",
            "HvyAlcoholConsump contains 2 values\n",
            "\n",
            "AnyHealthcare contains 2 values\n",
            "\n",
            "NoDocbcCost contains 2 values\n",
            "\n",
            "GenHlth contains 5 values\n",
            "\n",
            "MentHlth contains 31 values\n",
            "\n",
            "PhysHlth contains 31 values\n",
            "\n",
            "DiffWalk contains 2 values\n",
            "\n",
            "Sex contains 2 values\n",
            "\n",
            "Age contains 13 values\n",
            "\n",
            "Education contains 6 values\n",
            "\n",
            "Income contains 8 values\n"
          ]
        }
      ],
      "source": [
        "for x in range(0,22):\n",
        "  uniques, counts = np.unique(df[df.columns.values[x]], return_counts=True)\n",
        "  print(f'\\n{df.columns.values[x]} contains {len(uniques)} values')"
      ],
      "id": "wVFyTezcqzeg"
    },
    {
      "cell_type": "markdown",
      "metadata": {
        "id": "F_JqhUxTFNwX"
      },
      "source": [
        "####The sorting of the features:"
      ],
      "id": "F_JqhUxTFNwX"
    },
    {
      "cell_type": "markdown",
      "metadata": {
        "id": "dHDqumk42LFs"
      },
      "source": [
        "The features are sorted into a binary, a numerical and a categorical set. The data source and the comments there were also used to help in the sorting of the features."
      ],
      "id": "dHDqumk42LFs"
    },
    {
      "cell_type": "code",
      "execution_count": null,
      "metadata": {
        "id": "qz0SRFixqf8q"
      },
      "outputs": [],
      "source": [
        "bin_features = ['HighBP', 'HighChol', 'CholCheck', 'Smoker', 'Stroke', 'PhysActivity', 'Fruits', 'Veggies','HvyAlcoholConsump','AnyHealthcare','NoDocbcCost','DiffWalk','Sex']\n",
        "num_features = ['BMI', 'MentHlth', 'PhysHlth']\n",
        "cat_features = ['Diabetes', 'GenHlth', 'Age', 'Education', 'Income']"
      ],
      "id": "qz0SRFixqf8q"
    },
    {
      "cell_type": "markdown",
      "metadata": {
        "id": "qziQWCr5F0Eu"
      },
      "source": [
        "####Visualization of the original data:"
      ],
      "id": "qziQWCr5F0Eu"
    },
    {
      "cell_type": "markdown",
      "metadata": {
        "id": "l2DbQKcI6HtF"
      },
      "source": [
        "Visualization for the binary features:"
      ],
      "id": "l2DbQKcI6HtF"
    },
    {
      "cell_type": "code",
      "execution_count": null,
      "metadata": {
        "id": "kXUEe1b2m8Dk",
        "colab": {
          "base_uri": "https://localhost:8080/",
          "height": 248
        },
        "outputId": "cdd3aa2e-5a3d-44e3-d4b1-96c65c272c3a"
      },
      "outputs": [
        {
          "output_type": "display_data",
          "data": {
            "text/plain": [
              "<Figure size 2160x360 with 13 Axes>"
            ],
            "image/png": "[encoded data removed]"
          },
          "metadata": {
            "needs_background": "light"
          }
        }
      ],
      "source": [
        "N = len(bin_features)\n",
        "fig, axs = plt.subplots(1, N, figsize=(30, 5))\n",
        "\n",
        "for n in range(N):\n",
        "    sns.histplot(data=features, x=bin_features[n], ax=axs[n])\n",
        "    axs[n].set_ylabel('')\n",
        "plt.tight_layout()\n",
        "plt.show()"
      ],
      "id": "kXUEe1b2m8Dk"
    },
    {
      "cell_type": "markdown",
      "metadata": {
        "id": "m31Xkwn7F4Jp"
      },
      "source": [
        "Visualizations for the categorical features:"
      ],
      "id": "m31Xkwn7F4Jp"
    },
    {
      "cell_type": "code",
      "execution_count": null,
      "metadata": {
        "id": "JgoQUi084qVk",
        "colab": {
          "base_uri": "https://localhost:8080/",
          "height": 248
        },
        "outputId": "da2fc3fb-3fd2-4eaf-a317-5d8a83245d1d"
      },
      "outputs": [
        {
          "output_type": "display_data",
          "data": {
            "text/plain": [
              "<Figure size 2160x360 with 5 Axes>"
            ],
            "image/png": "[encoded data removed]"
          },
          "metadata": {
            "needs_background": "light"
          }
        }
      ],
      "source": [
        "N = len(cat_features)\n",
        "fig, axs = plt.subplots(1, N, figsize=(30, 5))\n",
        "for n in range(N):\n",
        "    sns.histplot(data=features, x=cat_features[n], ax=axs[n])\n",
        "    axs[n].set_ylabel('')\n",
        "plt.tight_layout()\n",
        "plt.show()"
      ],
      "id": "JgoQUi084qVk"
    },
    {
      "cell_type": "markdown",
      "metadata": {
        "id": "QQ4YTHsVF8jZ"
      },
      "source": [
        "A visualization for the numerical features:"
      ],
      "id": "QQ4YTHsVF8jZ"
    },
    {
      "cell_type": "code",
      "execution_count": null,
      "metadata": {
        "id": "WAhlEx3v5fCB",
        "colab": {
          "base_uri": "https://localhost:8080/",
          "height": 276
        },
        "outputId": "a8b4f50b-df40-4fbd-af55-b66d884d7885"
      },
      "outputs": [
        {
          "output_type": "display_data",
          "data": {
            "text/plain": [
              "<Figure size 2160x360 with 3 Axes>"
            ],
            "image/png": "[encoded data removed]"
          },
          "metadata": {
            "needs_background": "light"
          }
        }
      ],
      "source": [
        "N = len(num_features)\n",
        "fig, axs = plt.subplots(1, N, figsize=(30, 5))\n",
        "\n",
        "for n in range(N):\n",
        "    sns.histplot(data=features, x=num_features[n], ax=axs[n])\n",
        "    axs[n].set_ylabel('')\n",
        "plt.show()"
      ],
      "id": "WAhlEx3v5fCB"
    },
    {
      "cell_type": "markdown",
      "metadata": {
        "id": "ecce5c2b"
      },
      "source": [
        "##4. Preprocessing"
      ],
      "id": "ecce5c2b"
    },
    {
      "cell_type": "markdown",
      "metadata": {
        "id": "ccc03d2c"
      },
      "source": [
        "\n",
        "Steps taken in the the preprocessing:\n",
        "- Categorical features are \"one hot encoded\".\n",
        "- Numerical features are normalized instead of standardized as they are not normal distributed.\n",
        "- Data is balanced with weights.\n",
        "- The data is split into a validation set, test set, training set and the corresponding label sets.\n",
        "- The input features are all the sorted features specified earlier and as the output or labels there are classes denoted by 0 and 1 where 0 means a healthy person and a 1 means a person suffering from heart disease.\n"
      ],
      "id": "ccc03d2c"
    },
    {
      "cell_type": "markdown",
      "metadata": {
        "id": "VC9q9d_rHmMU"
      },
      "source": [
        "Explanations on standard preprocessing phases skipped:\n",
        "- As the missing values had already been dealt with by the source of the dataset it wasn't necessery to take action here.\n",
        "- About cleaning the BMI curve, We evaluated that even though the values for the BMI feature have statistical outliers, maximum being 98. As these values are not impossible, nor does BMI follow a normal curve, the dataset will not be further diminished by us. In the description of the original dataset it is explained that some cleaning of possible error values has already been carried out. <br>(Source: page 8 of  [CDC's BRFSS overview](https://www.cdc.gov/brfss/annual_data/2015/pdf/overview_2015.pdf).)"
      ],
      "id": "VC9q9d_rHmMU"
    },
    {
      "cell_type": "markdown",
      "source": [
        "####Preprocessing input"
      ],
      "metadata": {
        "id": "kTUee-dsgtJA"
      },
      "id": "kTUee-dsgtJA"
    },
    {
      "cell_type": "markdown",
      "source": [
        "- HeartDiseaseorAttack is a binary feature which implies if the answerer have had a heart disease or attack.\n",
        "- HighBP is a binary feature which implies if the answerer has a high blood pressure or not.\n",
        "- HighChol is a binary feature which implies if the answerer has a high cholesterol values or not.\n",
        "- CholCheck is a binary feature which implies if the answerer has had a cholesterol check-up within the past 5 years.\n",
        "- BMI is a a numerical feature, represents BMI of the answerer.\n",
        "- Smoker is a binary feature which tells if the person smokes or not.\n",
        "- Diabetes is a categorical feature which implies if the answerer has diabetes or not. Also, if person has diabetes, it is specified if it is type 1 or 2 diabetes.\n",
        "- PhysActivity is a binary feature which tells if the answerer does any physical activity.\n",
        "- Fruits is a a binary feature which implies if the answerer eats any fruits.\n",
        "- Veggies is a binary feature which implies if the answerer eats any vegetables.\n",
        "- HvyAlcoholConsump is a binary feature which implies if the answerer is a heavy alcohol consumer.\n",
        "- AnyHealthcare is a binary feature which tells if the answerer has any kind of medical insurance or goverment subsided health plans.\n",
        "- NoDocbcCost is a binary feature which tells if the answerer has had a need for a doctor but couldn't do so because of the cost in the past 12 months.\n",
        "- GenHlth is a categorical feature where the answerer evaluates his/her general health from 1-5.\n",
        "- MentHlth represents the amount of days in the last 30 days where the answerer had bad days mental health-wise.\n",
        "- PhysHlth represents the amount of days in the last 30 days where the answerer had bad days physical health-wise.\n",
        "- DiffWalk is a binary feature which tells if the answerer has any difficulties walking or climbing stairs.\n",
        "- Sex is a binary feature representing the sex of the answerer.\n",
        "- Age is a categorical feature about the age group of the answerer. An age group has 5 ages in them and there are 14 groups.\n",
        "- Education is a categorical feature about the education level of the answerer.\n",
        "- Income is a categorical feature about the level of income of the answerer.\n"
      ],
      "metadata": {
        "id": "bHiLiuaEQ8bc"
      },
      "id": "bHiLiuaEQ8bc"
    },
    {
      "cell_type": "markdown",
      "source": [
        "#### Preprocessing output"
      ],
      "metadata": {
        "id": "dJMWc3rtg1ma"
      },
      "id": "dJMWc3rtg1ma"
    },
    {
      "cell_type": "markdown",
      "source": [
        "\n",
        "What we get as the output of the preprocessing stage is training data, validation data and also the test data. Our naming convention is so that word data could be interpreted as \"X\" and labels as \"Y\".\n",
        "- train_data\n",
        "- train_labels\n",
        "- valid_data\n",
        "- valid_labels\n",
        "- test_data\n",
        "- test_labels"
      ],
      "metadata": {
        "id": "Sylvlhg2RYck"
      },
      "id": "Sylvlhg2RYck"
    },
    {
      "cell_type": "markdown",
      "source": [
        "###Procedures:"
      ],
      "metadata": {
        "id": "CyjZ3JNwhGtx"
      },
      "id": "CyjZ3JNwhGtx"
    },
    {
      "cell_type": "markdown",
      "metadata": {
        "id": "hLUxOh6X5Hwu"
      },
      "source": [
        "All the binary features in the dataframe are combined to their own array."
      ],
      "id": "hLUxOh6X5Hwu"
    },
    {
      "cell_type": "code",
      "execution_count": null,
      "metadata": {
        "id": "4rR6CsDPTUlb",
        "colab": {
          "base_uri": "https://localhost:8080/"
        },
        "outputId": "f3bc8ca7-cf02-470f-8b83-b152b9639412"
      },
      "outputs": [
        {
          "output_type": "execute_result",
          "data": {
            "text/plain": [
              "array([[1., 1., 1., 1., 0., 0., 0., 1., 0., 1., 0., 1., 0.],\n",
              "       [0., 0., 0., 1., 0., 1., 0., 0., 0., 0., 1., 0., 0.],\n",
              "       [1., 1., 1., 0., 0., 0., 1., 0., 0., 1., 1., 1., 0.],\n",
              "       [1., 0., 1., 0., 0., 1., 1., 1., 0., 1., 0., 0., 0.],\n",
              "       [1., 1., 1., 0., 0., 1., 1., 1., 0., 1., 0., 0., 0.]])"
            ]
          },
          "metadata": {},
          "execution_count": 10
        }
      ],
      "source": [
        "bin_values = features[bin_features].values\n",
        "bin_values[:5]"
      ],
      "id": "4rR6CsDPTUlb"
    },
    {
      "cell_type": "markdown",
      "metadata": {
        "id": "3H8lWWy15S7l"
      },
      "source": [
        "The numeric features in the dataframe are stored to their own array."
      ],
      "id": "3H8lWWy15S7l"
    },
    {
      "cell_type": "code",
      "execution_count": null,
      "metadata": {
        "id": "YFVi4QzvTU6k",
        "colab": {
          "base_uri": "https://localhost:8080/"
        },
        "outputId": "30839608-a02c-4240-b009-ecc49c505147"
      },
      "outputs": [
        {
          "output_type": "stream",
          "name": "stdout",
          "text": [
            "[[40. 18. 15.]\n",
            " [25.  0.  0.]\n",
            " [28. 30. 30.]\n",
            " [27.  0.  0.]\n",
            " [24.  3.  0.]]\n"
          ]
        }
      ],
      "source": [
        "num_values = features[num_features].values\n",
        "print(num_values[:5])"
      ],
      "id": "YFVi4QzvTU6k"
    },
    {
      "cell_type": "markdown",
      "metadata": {
        "id": "zcP28-Mb5bEJ"
      },
      "source": [
        "The categorical features in the dataframe are one hot encoded and combined into a single array."
      ],
      "id": "zcP28-Mb5bEJ"
    },
    {
      "cell_type": "code",
      "execution_count": null,
      "metadata": {
        "id": "QflumynoTVE_",
        "colab": {
          "base_uri": "https://localhost:8080/"
        },
        "outputId": "48cd2cc0-be1a-444a-abd2-65cc54608cd5"
      },
      "outputs": [
        {
          "output_type": "execute_result",
          "data": {
            "text/plain": [
              "array([[1., 0., 0., 0., 0., 0., 0., 1., 0., 0., 0., 0., 0., 0., 0., 0.,\n",
              "        1., 0., 0., 0., 0., 0., 0., 0., 1., 0., 0., 0., 0., 1., 0., 0.,\n",
              "        0., 0., 0.],\n",
              "       [1., 0., 0., 0., 0., 1., 0., 0., 0., 0., 0., 0., 0., 0., 1., 0.,\n",
              "        0., 0., 0., 0., 0., 0., 0., 0., 0., 0., 1., 1., 0., 0., 0., 0.,\n",
              "        0., 0., 0.]])"
            ]
          },
          "metadata": {},
          "execution_count": 12
        }
      ],
      "source": [
        "encoder = preprocessing.OneHotEncoder().fit(features[cat_features])\n",
        "cat_values = encoder.transform(features[cat_features]).toarray()\n",
        "cat_values[:2]"
      ],
      "id": "QflumynoTVE_"
    },
    {
      "cell_type": "markdown",
      "metadata": {
        "id": "LFLl2fUl5qOY"
      },
      "source": [
        "Dimensions of the arrays containing the sorted features."
      ],
      "id": "LFLl2fUl5qOY"
    },
    {
      "cell_type": "code",
      "execution_count": null,
      "metadata": {
        "id": "UXtDZZ5oTVPN",
        "colab": {
          "base_uri": "https://localhost:8080/"
        },
        "outputId": "929661db-7b56-4f48-bbcb-bc2f86c70fd3"
      },
      "outputs": [
        {
          "output_type": "execute_result",
          "data": {
            "text/plain": [
              "((253680, 13), (253680, 3), (253680, 35))"
            ]
          },
          "metadata": {},
          "execution_count": 13
        }
      ],
      "source": [
        "bin_values.shape, num_values.shape, cat_values.shape"
      ],
      "id": "UXtDZZ5oTVPN"
    },
    {
      "cell_type": "markdown",
      "metadata": {
        "id": "skelZoYuI8sf"
      },
      "source": [
        "The data is split into validation data, training data, test data and the corresponding labels"
      ],
      "id": "skelZoYuI8sf"
    },
    {
      "cell_type": "code",
      "execution_count": null,
      "metadata": {
        "id": "Mxd9rKojK1Oi"
      },
      "outputs": [],
      "source": [
        "data = np.concatenate((bin_values, num_values, cat_values), axis = 1)\n",
        "labels = df['HeartDiseaseorAttack']\n",
        "\n",
        "# In the first step we will split the data in training and remaining dataset\n",
        "train_data, rem_data, train_labels, rem_labels = train_test_split(data, labels, train_size = 0.64)\n",
        "valid_data, test_data, valid_labels, test_labels = train_test_split(rem_data, rem_labels, test_size = 0.2)"
      ],
      "id": "Mxd9rKojK1Oi"
    },
    {
      "cell_type": "markdown",
      "metadata": {
        "id": "uEOOn0_JVCuK"
      },
      "source": [
        "The numerical features are scaled with a minmax scaler as none of them are normal distributed. The scaling of the numerical value takes place after splitting so no information from test or validation data spill into the training data"
      ],
      "id": "uEOOn0_JVCuK"
    },
    {
      "cell_type": "code",
      "execution_count": null,
      "metadata": {
        "id": "UT6gPZA6VAws"
      },
      "outputs": [],
      "source": [
        "transformerBMI = preprocessing.MinMaxScaler()\n",
        "transformerBMI.fit(train_data[:,13].reshape(-1, 1))  # Fit scaler with train_data\n",
        "\n",
        "transformer30 = preprocessing.MinMaxScaler()\n",
        "transformer30.fit(train_data[:,14:16].reshape(-1, 1))  # Fit scaler with train_data\n",
        "\n",
        "train_data[:,13] = transformerBMI.transform(train_data[:,13].reshape(-1, 1)).reshape(len(train_data[:,13]),) # Normalize BMI in train_data\n",
        "valid_data[:,13] = transformerBMI.transform(valid_data[:,13].reshape(-1, 1)).reshape(len(valid_data[:,13]),) # Normalize BMI in valid_data\n",
        "test_data[:,13] = transformerBMI.transform(test_data[:,13].reshape(-1, 1)).reshape(len(test_data[:,13]),)    # Normalize BMI in test_data\n",
        "\n",
        "train_data[:,14] = transformer30.transform(train_data[:,14].reshape(-1, 1)).reshape(len(train_data[:,14]),) # Normalize MentHlth in train_data\n",
        "valid_data[:,14] = transformer30.transform(valid_data[:,14].reshape(-1, 1)).reshape(len(valid_data[:,14]),) # Normalize MentHlth in valid_data\n",
        "test_data[:,14] = transformer30.transform(test_data[:,14].reshape(-1, 1)).reshape(len(test_data[:,14]),)    # Normalize MentHlth in test_data\n",
        "\n",
        "train_data[:,15] = transformer30.transform(train_data[:,15].reshape(-1, 1)).reshape(len(train_data[:,15]),) # Normalize PhysHlth in train_data\n",
        "valid_data[:,15] = transformer30.transform(valid_data[:,15].reshape(-1, 1)).reshape(len(valid_data[:,15]),) # Normalize PhysHlth in valid_data\n",
        "test_data[:,15] = transformer30.transform(test_data[:,15].reshape(-1, 1)).reshape(len(test_data[:,15]),)    # Normalize PhysHlth in test_data"
      ],
      "id": "UT6gPZA6VAws"
    },
    {
      "cell_type": "markdown",
      "metadata": {
        "id": "TeFFXj-oJRPL"
      },
      "source": [
        "The weights for each class are stored as weight0 and weight1. These are the percentages of the classes from the full dataset:"
      ],
      "id": "TeFFXj-oJRPL"
    },
    {
      "cell_type": "code",
      "execution_count": null,
      "metadata": {
        "id": "LN6T1z5pJF3J",
        "colab": {
          "base_uri": "https://localhost:8080/"
        },
        "outputId": "86522a4c-b0c9-40c0-c494-fa57373f73b2"
      },
      "outputs": [
        {
          "output_type": "stream",
          "name": "stdout",
          "text": [
            "Class 0: 90.50167842074467 %\n",
            "Class 1: 9.498321579255336 %\n"
          ]
        }
      ],
      "source": [
        "values, counts = np.unique(train_labels, return_counts = True)\n",
        "healthy = counts[0]\n",
        "disease = counts[1]\n",
        "total = healthy + disease\n",
        "print('Class 0:', 100*healthy/total, '%')\n",
        "print('Class 1:', 100*disease/total, '%')\n",
        "\n",
        "weight0 = 1/healthy*(total/2.0)\n",
        "weight1 = 1/disease*(total/2.0)\n",
        "class_weight = {0: weight0, 1: weight1}"
      ],
      "id": "LN6T1z5pJF3J"
    },
    {
      "cell_type": "markdown",
      "metadata": {
        "id": "c23a01e6"
      },
      "source": [
        "## 5. Modeling"
      ],
      "id": "c23a01e6"
    },
    {
      "cell_type": "markdown",
      "metadata": {
        "id": "fGIz_MNv6ueg"
      },
      "source": [
        "The model architecture:\n",
        "- Neuron count: A single dense layer with 45 neurons seemed to provide the best results based on testing. (Different neuron counts for both a single layer and a double layer model were tested on a relative fast compiling version and the model with the highest sum of validated sensitivity and specificity was chosen as the model to be optimized further)\n",
        "- Activation function: Relu provided marginally better results compared to sigmoid\n",
        "- A dropout layer with a drop percentage of 10 seemed to provide good results while fending off overfitting."
      ],
      "id": "fGIz_MNv6ueg"
    },
    {
      "cell_type": "code",
      "execution_count": null,
      "metadata": {
        "id": "f41980b5",
        "colab": {
          "base_uri": "https://localhost:8080/"
        },
        "outputId": "5f881358-9f2e-49a7-e320-12dd4844b2d5"
      },
      "outputs": [
        {
          "output_type": "stream",
          "name": "stdout",
          "text": [
            "Model: \"sequential\"\n",
            "_________________________________________________________________\n",
            " Layer (type)                Output Shape              Param #   \n",
            "=================================================================\n",
            " dense (Dense)               (None, 45)                2340      \n",
            "                                                                 \n",
            " dropout (Dropout)           (None, 45)                0         \n",
            "                                                                 \n",
            " dense_1 (Dense)             (None, 1)                 46        \n",
            "                                                                 \n",
            "=================================================================\n",
            "Total params: 2,386\n",
            "Trainable params: 2,386\n",
            "Non-trainable params: 0\n",
            "_________________________________________________________________\n"
          ]
        }
      ],
      "source": [
        "input_columns=np.shape(train_data)[1]\n",
        "\n",
        "model = tf.keras.models.Sequential([\n",
        "tf.keras.layers.Dense(45, activation='relu', input_shape=(input_columns,)),\n",
        "tf.keras.layers.Dropout(0.1),\n",
        "tf.keras.layers.Dense(1, activation='sigmoid')\n",
        "])\n",
        "\n",
        "model.summary()"
      ],
      "id": "f41980b5"
    },
    {
      "cell_type": "markdown",
      "metadata": {
        "id": "2sNUs28c7QOL"
      },
      "source": [
        "Compiling the model:\n",
        "- Optimizer \"adam\" was chosen because it performed as good as or better than \"nadam\" or \"rms prop\".\n",
        "- The loss function \"binary_crossentropy\" is the obvious choice for a binary classification problem.\n",
        "- As the metric we tracked accuracy and recall during building but these dont affect the results and do not even show up on the final version of this notebook."
      ],
      "id": "2sNUs28c7QOL"
    },
    {
      "cell_type": "code",
      "execution_count": null,
      "metadata": {
        "id": "pYL5pHBu6rCp"
      },
      "outputs": [],
      "source": [
        "model.compile(optimizer = 'adam',\n",
        "              loss = 'binary_crossentropy',\n",
        "              metrics = ['Accuracy','Recall'])"
      ],
      "id": "pYL5pHBu6rCp"
    },
    {
      "cell_type": "markdown",
      "metadata": {
        "id": "9729bc30"
      },
      "source": [
        "## 6. Training"
      ],
      "id": "9729bc30"
    },
    {
      "cell_type": "markdown",
      "metadata": {
        "id": "8069d3e1"
      },
      "source": [
        "Here the neural network model is trained based on the training data and labels (train_data, train_labels). To test the model's capability it also receives the validation data and the labels as input which are not used in the training itself.<br>\n",
        "In order to get a relatively stable loss trend the batch size was increased to 20000 as with the default value for it the loss was extremely volatile. A volatile loss made the results from different training runs of the same model vary a lot.<br>\n",
        "Training the current model takes around 61 seconds.<br><br>\n",
        "We ran an extensive test run with 10000 epochs and a dropout value of 0 to find where the validation loss would start to trend upwards but as the graph below shows it wasn't feasible to pinpoint with our explorative method.\n",
        "<br>![10kepochs.png](data:image/png;base64,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)"
      ],
      "id": "8069d3e1"
    },
    {
      "cell_type": "code",
      "execution_count": null,
      "metadata": {
        "id": "4e20ee2b"
      },
      "outputs": [],
      "source": [
        "hist = model.fit(train_data, train_labels, batch_size = 20000, epochs = 200, class_weight=class_weight, validation_data=(valid_data, valid_labels), verbose=0)"
      ],
      "id": "4e20ee2b"
    },
    {
      "cell_type": "markdown",
      "metadata": {
        "id": "IWwCnKOtNtDy"
      },
      "source": [
        "Creating the confusion matrix and getting the sensitivity and specificity values for the validation data in order to gauge the model."
      ],
      "id": "IWwCnKOtNtDy"
    },
    {
      "cell_type": "code",
      "execution_count": null,
      "metadata": {
        "id": "qmXGOW3oA1Bc"
      },
      "outputs": [],
      "source": [
        "predictions = model.predict(valid_data, verbose=0) # for eg: [2, 2, 4]\n",
        "y = (predictions > 0.5).astype(np.float32)\n",
        "confusion = confusion_matrix(valid_labels, y)"
      ],
      "id": "qmXGOW3oA1Bc"
    },
    {
      "cell_type": "markdown",
      "source": [
        "Sensitivity and specificity from the validation labels."
      ],
      "metadata": {
        "id": "ymn2cWO0bq6l"
      },
      "id": "ymn2cWO0bq6l"
    },
    {
      "cell_type": "code",
      "source": [
        "print(\"Sensitivity: \", confusion[1,1]/(confusion[1,0]+confusion[1,1]))   # Sensitivity\n",
        "print(\"Specificity: \", confusion[0,0]/(confusion[0,0]+confusion[0,1]))   # Specificity"
      ],
      "metadata": {
        "id": "5HCS8ng0aEiD",
        "colab": {
          "base_uri": "https://localhost:8080/"
        },
        "outputId": "9178c1d3-abf2-42b3-fc2f-35aaa7737b2c"
      },
      "id": "5HCS8ng0aEiD",
      "execution_count": null,
      "outputs": [
        {
          "output_type": "stream",
          "name": "stdout",
          "text": [
            "Sensitivity:  0.8201502430402121\n",
            "Specificity:  0.7303496250245205\n"
          ]
        }
      ]
    },
    {
      "cell_type": "markdown",
      "metadata": {
        "id": "a8ad09d7"
      },
      "source": [
        "## 7. Performance and evaluation"
      ],
      "id": "a8ad09d7"
    },
    {
      "cell_type": "markdown",
      "source": [
        "Here a loss and an accuracy graph are evaluated and a final model is built where validation data and trainind data are combined and test data is used to validate the final model."
      ],
      "metadata": {
        "id": "LMGVLFheDBiZ"
      },
      "id": "LMGVLFheDBiZ"
    },
    {
      "cell_type": "markdown",
      "source": [
        "The loss graph<br>\n",
        "It seems there is still a slight downward trend for the training loss at 200 epochs where we decided to end our training. We interpreted this as underfitting but as the validation loss seemed to have stagnated we decided this was a good place to end the training. Increasing the dropout factor could be a way to get a cleaner cutoff point but we decided that reaching the best possible sensitivity and specificity was our goal and not a clean graph. The best results were reached with a dropout of 10%."
      ],
      "metadata": {
        "id": "9E_VdPKUXbdm"
      },
      "id": "9E_VdPKUXbdm"
    },
    {
      "cell_type": "code",
      "source": [
        "# Loss graph\n",
        "plt.plot(hist.history['loss'], label='Loss')\n",
        "plt.plot(hist.history['val_loss'], label='Val loss')\n",
        "plt.xlabel('Epochs')\n",
        "plt.ylabel('Loss value')\n",
        "plt.legend()\n",
        "plt.show()"
      ],
      "metadata": {
        "id": "Fu_mBqDuZxt5",
        "colab": {
          "base_uri": "https://localhost:8080/",
          "height": 279
        },
        "outputId": "63d9b00c-1fac-4851-8ffd-60b7609fa263"
      },
      "id": "Fu_mBqDuZxt5",
      "execution_count": null,
      "outputs": [
        {
          "output_type": "display_data",
          "data": {
            "text/plain": [
              "<Figure size 432x288 with 1 Axes>"
            ],
            "image/png": "[encoded data removed]"
          },
          "metadata": {
            "needs_background": "light"
          }
        }
      ]
    },
    {
      "cell_type": "markdown",
      "source": [
        "Accuracy graphs seems very clean as the training accuracy is almost the same as the validation accuracy. This tells us that the dropout is doing it's job at keeping the model generic."
      ],
      "metadata": {
        "id": "bD5vF9PRZ7fj"
      },
      "id": "bD5vF9PRZ7fj"
    },
    {
      "cell_type": "code",
      "source": [
        "# Accuracy graph\n",
        "plt.plot(hist.history['Accuracy'], label='Acc')\n",
        "plt.plot(hist.history['val_Accuracy'], label='Val acc')\n",
        "plt.xlabel('Epochs')\n",
        "plt.ylabel('Accuracy')\n",
        "plt.legend()\n",
        "plt.show()"
      ],
      "metadata": {
        "id": "dDU0Rn45s14V",
        "colab": {
          "base_uri": "https://localhost:8080/",
          "height": 279
        },
        "outputId": "db92451c-e16a-42a8-e250-fcea9d48bda4"
      },
      "id": "dDU0Rn45s14V",
      "execution_count": null,
      "outputs": [
        {
          "output_type": "display_data",
          "data": {
            "text/plain": [
              "<Figure size 432x288 with 1 Axes>"
            ],
            "image/png": "[encoded data removed]"
          },
          "metadata": {
            "needs_background": "light"
          }
        }
      ]
    },
    {
      "cell_type": "markdown",
      "source": [
        "Rebuilding the whole model for testing with both the training and the validation data as training data and finally validating with the test data"
      ],
      "metadata": {
        "id": "2zS-izvWBij6"
      },
      "id": "2zS-izvWBij6"
    },
    {
      "cell_type": "code",
      "source": [
        "# Combine train_data and valid_data for second training round\n",
        "combined_data = np.concatenate((train_data, valid_data), axis=0)\n",
        "combined_labels = np.concatenate((train_labels, valid_labels), axis=0)\n",
        "\n",
        "input_columns=np.shape(train_data)[1]\n",
        "model = tf.keras.models.Sequential([\n",
        "tf.keras.layers.Dense(45, activation='relu', input_shape=(input_columns,)),\n",
        "tf.keras.layers.Dropout(0.1),\n",
        "tf.keras.layers.Dense(1, activation='sigmoid')\n",
        "])\n",
        "\n",
        "model.compile(optimizer = 'adam',\n",
        "              loss = 'binary_crossentropy',\n",
        "              metrics = ['Accuracy','Recall'])\n",
        "\n",
        "hist2 = model.fit(combined_data, combined_labels, batch_size = 20000, epochs = 200, class_weight=class_weight, verbose=0)"
      ],
      "metadata": {
        "id": "KuTayl2wBRkT"
      },
      "id": "KuTayl2wBRkT",
      "execution_count": null,
      "outputs": []
    },
    {
      "cell_type": "markdown",
      "source": [
        "Generic outputs of the final model:"
      ],
      "metadata": {
        "id": "3dQbCp9fcBlP"
      },
      "id": "3dQbCp9fcBlP"
    },
    {
      "cell_type": "code",
      "execution_count": null,
      "metadata": {
        "id": "b0cf9c86",
        "colab": {
          "base_uri": "https://localhost:8080/"
        },
        "outputId": "fe4157f4-d308-425c-9521-67f89e8ae22d"
      },
      "outputs": [
        {
          "output_type": "stream",
          "name": "stdout",
          "text": [
            "571/571 - 1s - loss: 0.4798 - Accuracy: 0.7405 - recall: 0.8414 - 896ms/epoch - 2ms/step\n"
          ]
        },
        {
          "output_type": "execute_result",
          "data": {
            "text/plain": [
              "[0.4798445701599121, 0.740487277507782, 0.8413547277450562]"
            ]
          },
          "metadata": {},
          "execution_count": 25
        }
      ],
      "source": [
        "model.evaluate(test_data, test_labels, verbose=2)"
      ],
      "id": "b0cf9c86"
    },
    {
      "cell_type": "code",
      "source": [
        "test_predictions = model.predict(test_data, verbose=0) # for eg: [2, 2, 4]\n",
        "test_y = (test_predictions > 0.5).astype(np.float32)\n",
        "test_confusion = confusion_matrix(test_labels, test_y)\n",
        "print('Confusion matrix: \\n', test_confusion, sep=\"\")"
      ],
      "metadata": {
        "id": "JIQ3eCHz_Xev",
        "colab": {
          "base_uri": "https://localhost:8080/"
        },
        "outputId": "89557439-1bb9-4054-b619-00db36089a4d"
      },
      "id": "JIQ3eCHz_Xev",
      "execution_count": null,
      "outputs": [
        {
          "output_type": "stream",
          "name": "stdout",
          "text": [
            "Confusion matrix: \n",
            "[[12109  4473]\n",
            " [  267  1416]]\n"
          ]
        }
      ]
    },
    {
      "cell_type": "markdown",
      "source": [
        "Final sensitivity and specificity from the test labels."
      ],
      "metadata": {
        "id": "m37WoZ2Qbj2U"
      },
      "id": "m37WoZ2Qbj2U"
    },
    {
      "cell_type": "code",
      "source": [
        "print(\"Sensitivity: \", test_confusion[1,1]/(test_confusion[1,0]+test_confusion[1,1]))   # Sensitivity\n",
        "print(\"Specificity: \", test_confusion[0,0]/(test_confusion[0,0]+test_confusion[0,1]))   # Specificity"
      ],
      "metadata": {
        "id": "vRFwh-hx_3Sv",
        "colab": {
          "base_uri": "https://localhost:8080/"
        },
        "outputId": "248ef0a2-e7c4-4196-a302-80d67c85d4d2"
      },
      "id": "vRFwh-hx_3Sv",
      "execution_count": null,
      "outputs": [
        {
          "output_type": "stream",
          "name": "stdout",
          "text": [
            "Sensitivity:  0.8413547237076648\n",
            "Specificity:  0.7302496683150405\n"
          ]
        }
      ]
    },
    {
      "cell_type": "markdown",
      "metadata": {
        "id": "4cd38b96"
      },
      "source": [
        "## 8. Discussion and conclusions"
      ],
      "id": "4cd38b96"
    },
    {
      "cell_type": "markdown",
      "metadata": {
        "id": "2ed10734"
      },
      "source": [
        "###The testing:\n",
        "Many different models and settings were tried before establishing the final model presented here. All but the last two tests were conducted with a fast training process containing only 4 epochs. As a metric for the \"goodness\" of the model for these tests a simple sum on sensitivity and specificity was used as maximizing both was the goal. These tests were done by hand and to lessen the variablitiy of the results a mean of the sensitivity and specifity sums over two runs were used.\n",
        "\n",
        "Tests conducted:\n",
        "1. Layer count. Both single and double hidden layer models were tested.\n",
        "2. Activation function. ReLU or Sigmoid were tested as activation functions.\n",
        "3. The neuron count. In the case of two layers, only layers of the same size were tested.\n",
        "4. Two different ways of sampling to combat the imbalanced data. These sampling methods were \"SMOTE\" and the class weight approach.\n",
        "5. Optimizers adam, nadam and rms-prop were tested.\n",
        "6. The dropout percentage\n",
        "7. The epoch count.\n",
        "8. The Batch size.\n",
        "\n",
        "Test results:\n",
        "1. Layer count, A single layer ended up giving better results. (There is a possibility that the 4 epochs were not anough to train a more complex model with 2 layers and that is why a single layer performed better).\n",
        "2. Activation function, ReLU provided marginally better results-\n",
        "3. Neuron count, 45 seemed to perform the best. \n",
        "4. Sampling methods, the class weight method seemed worse for accuracy but better for specificity and sensitivity so we used it.\n",
        "5. Optimizer, adam was chosen\n",
        "6. A dropout percentage of 10 yielded the best results.\n",
        "7. Epoch count, 200 was somewhat of a compromize as the loss value of the training set still seemed to go down at that point. The sensitivity and specificity on longer runs was at best similiar to on a run with 200 epochs so we settled on it.\n",
        "8. The Batch size was increased to 20000 as the validation loss was very volatile with the default values and we estimated this was due to the very inbalanced classes.\n",
        "\n",
        "Some of the previous model setups had higher overall accuracy metric but their sensitivity and specificity metrics were lower. This was due to the class inbalance as ~90.5% of the observations were of a single class. So to reach an accuracy of 0.905 all the model has to do is predict that majority class every time.\n",
        "\n",
        "\n",
        "###Results:\n",
        "To summarize the best achieving model consisted of a single dense hidden layer and an output layer. The model's hidden layer consists of 45 neurons and the activation function used for it is ReLU. The activation layer has 1 neuron using Sigmoid for binary classification output. The model is compiled with adam as the optimizer and binary crossentropy as the loss function.\n",
        "\n",
        "The final achieved performance with the test data:\n",
        "\n",
        "| Accuracy | Recall | Loss   | Sensitivity        | Specificity |\n",
        "| -------- | ------ | ------ | ------------------ | ----------- |\n",
        "| 0.7405   | 0.8414 | 0.4763 | 0.8413547277450562 | 0.740487277507782 |\n",
        "\n",
        "As a baseline to compare our result to we concider a model that classifies everyting as members of the majority class. This model would have mean sensitivity and specificity of ~0.453.\n",
        "\n",
        "\n",
        "Comparing the means of the sensitivity and specificity produced by our model to the baseline:\n",
        "- This model's mean is ~0,791\n",
        "- Baseline mean of ~0.453\n",
        "\n",
        "\n",
        "Comparing the mean values implies that the neural network model performs quite a bit better than a dummy model in relation to the goal set for this project. So we deem this model useful.\n",
        "\n",
        "###Main observations and learning points\n",
        "Our main observations were about how imbalanced the data was and how to work with that and also how the epoch amount is not a trivial aspect of training the model.\n",
        "\n",
        "Our learning points were about how to sample imbalanced data and build a neural network for a binary classification problem. We also learned how to use validation data for the training procedure as well as the concept of the additional test data. The time used for the process of testing different hyperparameters would be diminished a great deal if the building of the testing model was done in a \"for loop\" that just outputs an array with all the relevant information while finetuning the parameters based on input.\n",
        "\n",
        "\n",
        "###How the model could be improved in future\n",
        "Firstly, we had a bit of trouble with categorizing some of the features. We weren't exactly sure if some of the features should be categorized as categorical or numeral features. So it would probably be beneficial to redo that part and learn more about using ordinal variables for a neural network. Creating an individually customized dataset from the original BRFSS dataset as well as categorizing it as we see fit might prove useful instead of using the ready made one.\n",
        "\n",
        "Secondly, more data never hurts and as this neural network is built only on the 2015 BRFSS questionnaire dataset, there are a lot more data available for use if additional years are included."
      ],
      "id": "2ed10734"
    }
  ],
  "metadata": {
    "colab": {
      "provenance": [],
      "collapsed_sections": [
        "qziQWCr5F0Eu"
      ]
    },
    "kernelspec": {
      "display_name": "Python 3",
      "language": "python",
      "name": "python3"
    },
    "language_info": {
      "codemirror_mode": {
        "name": "ipython",
        "version": 3
      },
      "file_extension": ".py",
      "mimetype": "text/x-python",
      "name": "python",
      "nbconvert_exporter": "python",
      "pygments_lexer": "ipython3",
      "version": "3.7.12"
    },
    "papermill": {
      "default_parameters": {},
      "duration": 10.316889,
      "end_time": "2023-01-02T13:55:17.866881",
      "environment_variables": {},
      "exception": null,
      "input_path": "__notebook__.ipynb",
      "output_path": "__notebook__.ipynb",
      "parameters": {},
      "start_time": "2023-01-02T13:55:07.549992",
      "version": "2.3.4"
    }
  },
  "nbformat": 4,
  "nbformat_minor": 5
}
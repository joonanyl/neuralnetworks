{
  "nbformat": 4,
  "nbformat_minor": 0,
  "metadata": {
    "colab": {
      "provenance": []
    },
    "kernelspec": {
      "name": "python3",
      "display_name": "Python 3"
    },
    "language_info": {
      "name": "python"
    }
  },
  "cells": [
    {
      "cell_type": "markdown",
      "source": [
        "# Case 2. Pneumonia X-ray image analysis\n",
        "**Neural Networks for Machine Learning Applications**<br>\n",
        "7.2.2023<br>\n",
        "Joona Nylander, Lassi Piispanen and Antti Taponen<br>\n",
        "[Information Technology, Bachelor's Degree](https://www.metropolia.fi/en/academics/bachelors-degrees/information-technology)<br>\n",
        "[Metropolia University of Applied Sciences](https://www.metropolia.fi/en)"
      ],
      "metadata": {
        "id": "T2mH8Gk7y3C6"
      }
    },
    {
      "cell_type": "markdown",
      "source": [
        "## 1. Introduction\n",
        "The goal of this notebook is to create a binary classification for X-ray images based on if the patient has pneumonia or not. This will be achieved using a convolutional neural network and multiple models are to be compared with each other."
      ],
      "metadata": {
        "id": "eNUlEZcLzwjy"
      }
    },
    {
      "cell_type": "markdown",
      "source": [
        "## 2. Setup\n",
        "The main library used to build the convolutional neural network is Tensorflows Keras library.\n",
        "\n",
        "In addition to Tensorflow and Keras, matplotlib.pyplot is imported for result visualization."
      ],
      "metadata": {
        "id": "3i9oXfcH0VWh"
      }
    },
    {
      "cell_type": "code",
      "execution_count": null,
      "metadata": {
        "colab": {
          "base_uri": "https://localhost:8080/"
        },
        "id": "_E3AZGT_wAeq",
        "outputId": "76890489-253c-439f-946f-e78c421dab63"
      },
      "outputs": [
        {
          "output_type": "stream",
          "name": "stdout",
          "text": [
            "Drive already mounted at /content/gdrive; to attempt to forcibly remount, call drive.mount(\"/content/gdrive\", force_remount=True).\n"
          ]
        }
      ],
      "source": [
        "import tensorflow as tf\n",
        "import os                       # Used to access files\n",
        "import matplotlib.pyplot as plt # Used to plot graphs\n",
        "\n",
        "from tensorflow.keras import layers, models\n",
        "from tensorflow.keras.preprocessing.image import ImageDataGenerator\n",
        "\n",
        "from google.colab import drive\n",
        "drive.mount(\"/content/gdrive\")"
      ]
    },
    {
      "cell_type": "markdown",
      "source": [
        "## 3. Dataset\n",
        "The original dataset used to train the convolutional neural network is Mendeley Data. https://data.mendeley.com/datasets/rscbjbr9sj/2\n",
        "\n",
        "The original dataset contains x-ray images of varying dimensions. The data is stored as sets of two for classification purposes. The division of the different classes for the samples is done via a folder system where one folder contains the x-rays of the healthy individuals and another contains the x-rays of the individuals with pneumonia. In addition to this there are two parent folders containing folders of both healthy and sick samples. These parent folders are used for splitting the data into training and testing datasets.\n",
        "\n",
        "Because of how the original data was split into train and test sets we resplit and rearranged the data locally with a borrowed python code and then uploaded the new dataset to Google Drive.\n",
        "\n",
        "The new dataset now has three folders; train, validation and test."
      ],
      "metadata": {
        "id": "ZFaNccSr03eH"
      }
    },
    {
      "cell_type": "code",
      "source": [
        "# Images are loaded from Google Drive\n",
        "\n",
        "dir = '/content/gdrive/Shareddrives/Neuroverkot/Juha/case2/Case2_XRay'\n",
        "!ls $dir"
      ],
      "metadata": {
        "colab": {
          "base_uri": "https://localhost:8080/"
        },
        "id": "bCUPBKzDwVpK",
        "outputId": "cd835f08-e4cf-4c64-d749-144f55271353"
      },
      "execution_count": null,
      "outputs": [
        {
          "output_type": "stream",
          "name": "stdout",
          "text": [
            "test  train  validation\n"
          ]
        }
      ]
    },
    {
      "cell_type": "code",
      "source": [
        "train_dir = os.path.join(dir,'train')\n",
        "validation_dir = os.path.join(dir,'validation')\n",
        "test_dir = os.path.join(dir,'test')\n",
        "\n",
        "train_names_normal = os.listdir(os.path.join(train_dir,'NORMAL'))\n",
        "train_names_pneumonia = os.listdir(os.path.join(train_dir,'PNEUMONIA'))\n",
        "\n",
        "val_names_normal = os.listdir(os.path.join(validation_dir,'NORMAL'))\n",
        "val_names_pneumonia = os.listdir(os.path.join(validation_dir,'PNEUMONIA'))\n",
        "\n",
        "test_names_normal = os.listdir(os.path.join(test_dir,'NORMAL'))\n",
        "test_names_pneumonia = os.listdir(os.path.join(test_dir,'PNEUMONIA'))\n",
        "\n",
        "print('Train directory:')\n",
        "print(len(train_names_normal),'normal images')\n",
        "print(len(train_names_pneumonia),'pneumonia images') \n",
        "\n",
        "print('Validation directory:')\n",
        "print(len(val_names_normal),'normal images')\n",
        "print(len(val_names_pneumonia),'pneumonia images') \n",
        "\n",
        "print('Test directory:')\n",
        "print(len(test_names_normal),'normal images')\n",
        "print(len(test_names_pneumonia),'pneumonia images')"
      ],
      "metadata": {
        "colab": {
          "base_uri": "https://localhost:8080/"
        },
        "id": "X8AzkIZjxFH5",
        "outputId": "f765d77e-cee9-4787-f5b3-c339d1b09cbd"
      },
      "execution_count": null,
      "outputs": [
        {
          "output_type": "stream",
          "name": "stdout",
          "text": [
            "Train directory:\n",
            "949 normal images\n",
            "2574 pneumonia images\n",
            "Validation directory:\n",
            "317 normal images\n",
            "855 pneumonia images\n",
            "Test directory:\n",
            "317 normal images\n",
            "855 pneumonia images\n"
          ]
        }
      ]
    },
    {
      "cell_type": "markdown",
      "source": [
        "## 4. Preprocessing\n",
        "\n",
        "Preprocessing of the dataset was quite straightforward due to Keras image preprocessing module which does everything needed to do.\n",
        "\n",
        "For some of our convolutional neural network models we used data augmentation, which was also performed with the same image preprocessing module."
      ],
      "metadata": {
        "id": "UQYUd3Il38CI"
      }
    },
    {
      "cell_type": "markdown",
      "source": [
        "Train and validation sets are loaded from Google Drive directory. For this model all the images are resized to 300 by 300 pixels size. The image size has effect on how many Max Pooling 2D (both dimensions divided by 2) can be performed on the image. With bigger image size even smaller features can be extracted from the image, but the time to train the network grows because convolutional layers has more work to do.\n",
        "\n",
        "Also RGB values (ranging from 0 to 255) of the images are rescaled to range from 0 to 1."
      ],
      "metadata": {
        "id": "Cpz0UjsX8UiL"
      }
    },
    {
      "cell_type": "code",
      "source": [
        "datagen = ImageDataGenerator(rescale=1./255)\n",
        "\n",
        "train_generator = datagen.flow_from_directory(\n",
        "    train_dir, target_size=(300,300), batch_size=32,\n",
        "    class_mode='binary')\n",
        "\n",
        "validation_generator = datagen.flow_from_directory(\n",
        "    validation_dir, target_size=(300,300), batch_size=32,\n",
        "    class_mode='binary')"
      ],
      "metadata": {
        "colab": {
          "base_uri": "https://localhost:8080/"
        },
        "id": "rVKIJo9J39ys",
        "outputId": "c9b2fb85-5fd1-46e4-8b63-ad75103c3aca"
      },
      "execution_count": null,
      "outputs": [
        {
          "output_type": "stream",
          "name": "stdout",
          "text": [
            "Found 3522 images belonging to 2 classes.\n",
            "Found 1172 images belonging to 2 classes.\n"
          ]
        }
      ]
    },
    {
      "cell_type": "markdown",
      "source": [
        "## 5. Modeling"
      ],
      "metadata": {
        "id": "HEJjD6ifA19G"
      }
    },
    {
      "cell_type": "markdown",
      "source": [
        "### 5.1 Chosen model\n",
        "\n",
        "The model we chose has six convolutional layers with filter numbers of 8, 16, 32, 32, 64 and 128, following with a single 256 neuron dense layer and finally single neuron output layer. After every convolutional layer max pooling is performed."
      ],
      "metadata": {
        "id": "Edkw8b71BPI4"
      }
    },
    {
      "cell_type": "code",
      "source": [
        "model = models.Sequential()\n",
        "\n",
        "model.add(layers.Conv2D(8, (3, 3), activation='relu',\n",
        "    input_shape=(300, 300, 3)))\n",
        "model.add(layers.MaxPooling2D((2, 2)))\n",
        "model.add(layers.Conv2D(16, (3, 3), activation='relu'))\n",
        "model.add(layers.MaxPooling2D((2, 2)))\n",
        "model.add(layers.Conv2D(32, (3, 3), activation='relu'))\n",
        "model.add(layers.MaxPooling2D((2, 2)))\n",
        "model.add(layers.Conv2D(32, (3, 3), activation='relu'))\n",
        "model.add(layers.MaxPooling2D((2, 2)))\n",
        "model.add(layers.Conv2D(64, (3, 3), activation='relu'))\n",
        "model.add(layers.MaxPooling2D((2, 2)))\n",
        "model.add(layers.Conv2D(128, (3, 3), activation='relu'))\n",
        "model.add(layers.MaxPooling2D((2, 2)))\n",
        "model.add(layers.Flatten())\n",
        "model.add(layers.Dense(256, activation='relu'))\n",
        "model.add(layers.Dense(1, activation='sigmoid'))\n",
        "\n",
        "model.summary()"
      ],
      "metadata": {
        "colab": {
          "base_uri": "https://localhost:8080/"
        },
        "id": "0BSuCaYBA34x",
        "outputId": "5e6b445c-871a-4720-95b6-a39ea7857851"
      },
      "execution_count": null,
      "outputs": [
        {
          "output_type": "stream",
          "name": "stdout",
          "text": [
            "Model: \"sequential\"\n",
            "_________________________________________________________________\n",
            " Layer (type)                Output Shape              Param #   \n",
            "=================================================================\n",
            " conv2d (Conv2D)             (None, 298, 298, 8)       224       \n",
            "                                                                 \n",
            " max_pooling2d (MaxPooling2D  (None, 149, 149, 8)      0         \n",
            " )                                                               \n",
            "                                                                 \n",
            " conv2d_1 (Conv2D)           (None, 147, 147, 16)      1168      \n",
            "                                                                 \n",
            " max_pooling2d_1 (MaxPooling  (None, 73, 73, 16)       0         \n",
            " 2D)                                                             \n",
            "                                                                 \n",
            " conv2d_2 (Conv2D)           (None, 71, 71, 32)        4640      \n",
            "                                                                 \n",
            " max_pooling2d_2 (MaxPooling  (None, 35, 35, 32)       0         \n",
            " 2D)                                                             \n",
            "                                                                 \n",
            " conv2d_3 (Conv2D)           (None, 33, 33, 32)        9248      \n",
            "                                                                 \n",
            " max_pooling2d_3 (MaxPooling  (None, 16, 16, 32)       0         \n",
            " 2D)                                                             \n",
            "                                                                 \n",
            " conv2d_4 (Conv2D)           (None, 14, 14, 64)        18496     \n",
            "                                                                 \n",
            " max_pooling2d_4 (MaxPooling  (None, 7, 7, 64)         0         \n",
            " 2D)                                                             \n",
            "                                                                 \n",
            " conv2d_5 (Conv2D)           (None, 5, 5, 128)         73856     \n",
            "                                                                 \n",
            " max_pooling2d_5 (MaxPooling  (None, 2, 2, 128)        0         \n",
            " 2D)                                                             \n",
            "                                                                 \n",
            " flatten (Flatten)           (None, 512)               0         \n",
            "                                                                 \n",
            " dense (Dense)               (None, 256)               131328    \n",
            "                                                                 \n",
            " dense_1 (Dense)             (None, 1)                 257       \n",
            "                                                                 \n",
            "=================================================================\n",
            "Total params: 239,217\n",
            "Trainable params: 239,217\n",
            "Non-trainable params: 0\n",
            "_________________________________________________________________\n"
          ]
        }
      ]
    },
    {
      "cell_type": "markdown",
      "source": [
        "The model is compiled using Adam optimizer, which was chosen based on experience from several models being trained.\n",
        "\n",
        "The loss function Binary Cross Entropy is the obvious choice for a binary classification problem."
      ],
      "metadata": {
        "id": "LSJcrCiCCjgk"
      }
    },
    {
      "cell_type": "code",
      "source": [
        "model.compile(loss='binary_crossentropy', optimizer='adam',\n",
        "    metrics=['Accuracy','Recall'])"
      ],
      "metadata": {
        "id": "jLckgHhwBFaR"
      },
      "execution_count": null,
      "outputs": []
    },
    {
      "cell_type": "markdown",
      "source": [
        "### 5.2 Other models"
      ],
      "metadata": {
        "id": "e7rosegjBMm4"
      }
    },
    {
      "cell_type": "markdown",
      "source": [
        "#### Pre-trained model with VGG16"
      ],
      "metadata": {
        "id": "64fsUz4-LlUs"
      }
    },
    {
      "cell_type": "markdown",
      "source": [
        "One of our models was done with VGG16 pre-trained network which performed exceptionally good considering the ease of use and how fast it was to train the rest of the network after VGG16 had done it's job.\n",
        "\n",
        "VGG16 was chosen based on discussion and its popularity on internet. We also did several training runs with different pre-trained networks and VGG16 performed best.\n",
        "\n",
        "With only one dense layer containing 256 neurons and single neuron output layer after the pre-trained network ~96% validation accuracy was achieved. Here Adam was also used as optimizer. Image size was set to 150 by 150 pixels.\n",
        "\n",
        "Data augmentation was used for the dataset and the RGB values were rescaled to be between 0 and 1.\n",
        "\n",
        "Although this model was slightly better than our chosen one we did not want to choose this model because all we had to do was add a single dense layer to it."
      ],
      "metadata": {
        "id": "Bp-h8iDxbmJY"
      }
    },
    {
      "cell_type": "code",
      "source": [
        "from tensorflow.keras.applications import VGG16\n",
        "conv_base = VGG16(weights='imagenet', include_top=False,\n",
        "                  input_shape=(150,150,3))\n",
        "\n",
        "conv_base.summary()"
      ],
      "metadata": {
        "id": "OzOKOouyCQh-",
        "colab": {
          "base_uri": "https://localhost:8080/"
        },
        "outputId": "dba233bd-7b1c-4328-f379-b00209fbeac0"
      },
      "execution_count": null,
      "outputs": [
        {
          "output_type": "stream",
          "name": "stdout",
          "text": [
            "Downloading data from https://storage.googleapis.com/tensorflow/keras-applications/vgg16/vgg16_weights_tf_dim_ordering_tf_kernels_notop.h5\n",
            "58889256/58889256 [==============================] - 1s 0us/step\n",
            "Model: \"vgg16\"\n",
            "_________________________________________________________________\n",
            " Layer (type)                Output Shape              Param #   \n",
            "=================================================================\n",
            " input_1 (InputLayer)        [(None, 150, 150, 3)]     0         \n",
            "                                                                 \n",
            " block1_conv1 (Conv2D)       (None, 150, 150, 64)      1792      \n",
            "                                                                 \n",
            " block1_conv2 (Conv2D)       (None, 150, 150, 64)      36928     \n",
            "                                                                 \n",
            " block1_pool (MaxPooling2D)  (None, 75, 75, 64)        0         \n",
            "                                                                 \n",
            " block2_conv1 (Conv2D)       (None, 75, 75, 128)       73856     \n",
            "                                                                 \n",
            " block2_conv2 (Conv2D)       (None, 75, 75, 128)       147584    \n",
            "                                                                 \n",
            " block2_pool (MaxPooling2D)  (None, 37, 37, 128)       0         \n",
            "                                                                 \n",
            " block3_conv1 (Conv2D)       (None, 37, 37, 256)       295168    \n",
            "                                                                 \n",
            " block3_conv2 (Conv2D)       (None, 37, 37, 256)       590080    \n",
            "                                                                 \n",
            " block3_conv3 (Conv2D)       (None, 37, 37, 256)       590080    \n",
            "                                                                 \n",
            " block3_pool (MaxPooling2D)  (None, 18, 18, 256)       0         \n",
            "                                                                 \n",
            " block4_conv1 (Conv2D)       (None, 18, 18, 512)       1180160   \n",
            "                                                                 \n",
            " block4_conv2 (Conv2D)       (None, 18, 18, 512)       2359808   \n",
            "                                                                 \n",
            " block4_conv3 (Conv2D)       (None, 18, 18, 512)       2359808   \n",
            "                                                                 \n",
            " block4_pool (MaxPooling2D)  (None, 9, 9, 512)         0         \n",
            "                                                                 \n",
            " block5_conv1 (Conv2D)       (None, 9, 9, 512)         2359808   \n",
            "                                                                 \n",
            " block5_conv2 (Conv2D)       (None, 9, 9, 512)         2359808   \n",
            "                                                                 \n",
            " block5_conv3 (Conv2D)       (None, 9, 9, 512)         2359808   \n",
            "                                                                 \n",
            " block5_pool (MaxPooling2D)  (None, 4, 4, 512)         0         \n",
            "                                                                 \n",
            "=================================================================\n",
            "Total params: 14,714,688\n",
            "Trainable params: 14,714,688\n",
            "Non-trainable params: 0\n",
            "_________________________________________________________________\n"
          ]
        }
      ]
    },
    {
      "cell_type": "code",
      "source": [
        "model2 = models.Sequential()\n",
        "\n",
        "model2.add(layers.Dense(256, activation='relu', input_shape=(4*4*512,)))\n",
        "model2.add(layers.Dense(1, activation='sigmoid'))\n",
        "\n",
        "model2.summary()"
      ],
      "metadata": {
        "id": "jRN8yJNlDc_b",
        "colab": {
          "base_uri": "https://localhost:8080/"
        },
        "outputId": "113d5635-559f-493f-9d9b-1ae85cfa940b"
      },
      "execution_count": null,
      "outputs": [
        {
          "output_type": "stream",
          "name": "stdout",
          "text": [
            "Model: \"sequential_1\"\n",
            "_________________________________________________________________\n",
            " Layer (type)                Output Shape              Param #   \n",
            "=================================================================\n",
            " dense_2 (Dense)             (None, 256)               2097408   \n",
            "                                                                 \n",
            " dense_3 (Dense)             (None, 1)                 257       \n",
            "                                                                 \n",
            "=================================================================\n",
            "Total params: 2,097,665\n",
            "Trainable params: 2,097,665\n",
            "Non-trainable params: 0\n",
            "_________________________________________________________________\n"
          ]
        }
      ]
    },
    {
      "cell_type": "markdown",
      "source": [
        "#### Third model"
      ],
      "metadata": {
        "id": "opw-vnjhqEvg"
      }
    },
    {
      "cell_type": "markdown",
      "source": [
        "Our third model is following:\n",
        "\n",
        "![model3.png](data:image/png;base64,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)\n",
        "\n",
        "\n",
        "\n"
      ],
      "metadata": {
        "id": "ziWGmF2zrXG9"
      }
    },
    {
      "cell_type": "markdown",
      "source": [
        "We tried to use a bit bigger image size and deeper network which resulted in a longer training time but the performance was about the same or sligthly worse than with our chosen model (~95% validation accuracy). Adam was used as optimizer here aswell."
      ],
      "metadata": {
        "id": "K3U2a1nJsh-n"
      }
    },
    {
      "cell_type": "markdown",
      "source": [
        "## 6. Training"
      ],
      "metadata": {
        "id": "s_sZaRuXDdod"
      }
    },
    {
      "cell_type": "markdown",
      "source": [
        "The chosen model is trained using the training dataset and validated using the validation set during the training. From several training runs and inspection of the accuracy and loss curves epoch count of 12 was chosen, which seemed to be the peak after the model started to overfit.\n",
        "\n",
        "Steps per epoch for both training and validation was calculated from the corresponding sets size divided by data generators batch size."
      ],
      "metadata": {
        "id": "uerHCzz_Em3D"
      }
    },
    {
      "cell_type": "code",
      "source": [
        "history = model.fit(train_generator, steps_per_epoch=109, epochs=12,\n",
        "    validation_data=validation_generator, validation_steps=36, verbose=0)"
      ],
      "metadata": {
        "id": "pK_41pEmDsCw"
      },
      "execution_count": null,
      "outputs": []
    },
    {
      "cell_type": "markdown",
      "source": [
        "## 7. Performance and evaluation"
      ],
      "metadata": {
        "id": "1EJmxkJDHj02"
      }
    },
    {
      "cell_type": "markdown",
      "source": [
        "### 7.1 Loss and accuracy graphs of training and validation"
      ],
      "metadata": {
        "id": "tQxA3PLSIwZq"
      }
    },
    {
      "cell_type": "code",
      "source": [
        "acc = history.history['Accuracy']\n",
        "val_acc = history.history['val_Accuracy']\n",
        "loss = history.history['loss']\n",
        "val_loss = history.history['val_loss']\n",
        "recall = history.history['recall']\n",
        "val_recall = history.history['val_recall']\n",
        "\n",
        "epochs = range(1, len(acc) + 1)\n",
        "\n",
        "plt.plot(epochs, acc, 'bo', label='Training acc')\n",
        "plt.plot(epochs, val_acc, 'b', label='Validation acc')\n",
        "plt.title('Training and validation accuracy')\n",
        "plt.legend()\n",
        "plt.figure()\n",
        "\n",
        "plt.plot(epochs, loss, 'bo', label='Training loss')\n",
        "plt.plot(epochs, val_loss, 'b', label='Validation loss')\n",
        "plt.title('Training and validation loss')\n",
        "plt.legend()\n",
        "\n",
        "plt.show()"
      ],
      "metadata": {
        "colab": {
          "base_uri": "https://localhost:8080/",
          "height": 545
        },
        "id": "-Z0c7K3EK-hC",
        "outputId": "be631940-6dcd-4aae-cc52-d79d78560fe1"
      },
      "execution_count": null,
      "outputs": [
        {
          "output_type": "display_data",
          "data": {
            "text/plain": [
              "<Figure size 432x288 with 1 Axes>"
            ],
            "image/png": "[encoded data removed]"
          },
          "metadata": {
            "needs_background": "light"
          }
        },
        {
          "output_type": "display_data",
          "data": {
            "text/plain": [
              "<Figure size 432x288 with 1 Axes>"
            ],
            "image/png": "[encoded data removed]"
          },
          "metadata": {
            "needs_background": "light"
          }
        }
      ]
    },
    {
      "cell_type": "code",
      "source": [
        "print(\"Training accuracy:\", acc[11])\n",
        "print(\"Validation accuracy:\", val_acc[11])\n",
        "\n",
        "print(\"Training recall:\", recall[11])\n",
        "print(\"Validation recall:\", val_recall[11])"
      ],
      "metadata": {
        "colab": {
          "base_uri": "https://localhost:8080/"
        },
        "id": "8ZCNbSCxgAct",
        "outputId": "47421f53-7ac0-4db3-8c7d-90c1acbade04"
      },
      "execution_count": null,
      "outputs": [
        {
          "output_type": "stream",
          "name": "stdout",
          "text": [
            "Training accuracy: 0.9736841917037964\n",
            "Validation accuracy: 0.9522569179534912\n",
            "Training recall: 0.980997622013092\n",
            "Validation recall: 0.9630952477455139\n"
          ]
        }
      ]
    },
    {
      "cell_type": "markdown",
      "source": [
        "The model has accuracy of ~95% with validation data and recall of 96%, which both exceeds the goal of 90%.\n",
        "\n",
        "From the graphs we can see that the sweet spot might actually have been at epoch 8, instead of 12."
      ],
      "metadata": {
        "id": "r2xP4qYbfUtC"
      }
    },
    {
      "cell_type": "markdown",
      "source": [
        "### 7.2 Final evaluation with test set"
      ],
      "metadata": {
        "id": "slrphd56JQwk"
      }
    },
    {
      "cell_type": "code",
      "source": [
        "test_generator = datagen.flow_from_directory(test_dir,\n",
        "    target_size=(300, 300),batch_size=32,\n",
        "    class_mode='binary')\n",
        "\n",
        "test_loss, test_acc, test_recall = model.evaluate(test_generator, steps=36)\n",
        "\n",
        "print('test acc:', test_acc, 'test recall:', test_recall)"
      ],
      "metadata": {
        "colab": {
          "base_uri": "https://localhost:8080/"
        },
        "id": "ZoJcj0wsJVTX",
        "outputId": "44cc272c-b0f0-455f-c433-1f4629cdd77e"
      },
      "execution_count": null,
      "outputs": [
        {
          "output_type": "stream",
          "name": "stdout",
          "text": [
            "Found 1172 images belonging to 2 classes.\n",
            "36/36 [==============================] - 154s 4s/step - loss: 0.1310 - Accuracy: 0.9462 - recall: 0.9515\n",
            "test acc: 0.9461805820465088 test recall: 0.9514793157577515\n"
          ]
        }
      ]
    },
    {
      "cell_type": "markdown",
      "source": [
        "Accuracy of ~95% aswell as recall was achieved on test set."
      ],
      "metadata": {
        "id": "EjU6fGlHnPII"
      }
    },
    {
      "cell_type": "markdown",
      "source": [
        "## 8. Discussion and conclusions"
      ],
      "metadata": {
        "id": "aRmGzVa4JeVi"
      }
    },
    {
      "cell_type": "markdown",
      "source": [
        "We quickly realized how resource extensive the training process of a neural network is. Because how time-consuming every training run was we trained our models locally.\n",
        "\n",
        "To conclude, the best performing model was the one where we utilized a pre-trained network (VGG16). But in terms of how performance consuming the usage of the model was, our self built model was only around 1 percentage point worse in accuracy and sensitivity with around 14.5 million less parameters.\n",
        "\n",
        "However, testing different pre-trained networks wasn't really making a difference towards accuracy or sensitivity. For example, we tried using a pre-trained network called \"Xception\" which was the top-rated network accuracywise in the Keras documentation. A model using Xception happened to  yield results with an accuracy of 94%. \n",
        "\n",
        "Even though on paper it should've been the best pre-trained network to use, it didn't appear to be so in this exact problem. The pre-trained networks are for a general purpose use, and we think that with more time we could've modified them to perform even better."
      ],
      "metadata": {
        "id": "I6YL5BYsNK-U"
      }
    }
  ]
}
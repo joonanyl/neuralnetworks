{
  "cells": [
    {
      "cell_type": "markdown",
      "id": "079c0076",
      "metadata": {
        "papermill": {
          "duration": 0.005091,
          "end_time": "2023-01-02T14:17:29.668825",
          "exception": false,
          "start_time": "2023-01-02T14:17:29.663734",
          "status": "completed"
        },
        "tags": [],
        "id": "079c0076"
      },
      "source": [
        "# Case 3. Patient Drug Review\n",
        "**Neural Networks for Machine Learning Applications**<br>\n",
        "7.3.2023<br>\n",
        "Team 8. Joona Nylander, Lassi Piispanen, Antti Taponen<br>\n",
        "[Information Technology, Bachelor's Degree](https://www.metropolia.fi/en/academics/bachelors-degrees/information-technology)<br>\n",
        "[Metropolia University of Applied Sciences](https://www.metropolia.fi/en)"
      ]
    },
    {
      "cell_type": "markdown",
      "id": "83685de2",
      "metadata": {
        "papermill": {
          "duration": 0.003855,
          "end_time": "2023-01-02T14:17:29.677189",
          "exception": false,
          "start_time": "2023-01-02T14:17:29.673334",
          "status": "completed"
        },
        "tags": [],
        "id": "83685de2"
      },
      "source": [
        "## 1. Introduction\n",
        "\n",
        "The goal of this notebook is to use methods of text processing and create classifier with Recurrent Neural Network (LSTM) and Convolutional 1D Neural Network to see if they can predict the rating of the drug based on the review. If they can we compare the results which model performs better on this particular task."
      ]
    },
    {
      "cell_type": "markdown",
      "id": "30539238",
      "metadata": {
        "papermill": {
          "duration": 0.003771,
          "end_time": "2023-01-02T14:17:29.685001",
          "exception": false,
          "start_time": "2023-01-02T14:17:29.681230",
          "status": "completed"
        },
        "tags": [],
        "id": "30539238"
      },
      "source": [
        "## 2. Setup\n",
        "\n",
        "The main library used to process the data and build the Recurrent Neural Network and the Convolutional 1D Neural Network is Tensorflows Keras library.\n",
        "Pandas and Numpy libraries are used to load and fetch the necessary data from the dataset. Matplotlib.pyplot is imported for performance and result visualization."
      ]
    },
    {
      "cell_type": "code",
      "execution_count": null,
      "id": "03e50630",
      "metadata": {
        "execution": {
          "iopub.execute_input": "2023-01-02T14:17:29.695173Z",
          "iopub.status.busy": "2023-01-02T14:17:29.694678Z",
          "iopub.status.idle": "2023-01-02T14:17:29.700976Z",
          "shell.execute_reply": "2023-01-02T14:17:29.699919Z"
        },
        "papermill": {
          "duration": 0.014172,
          "end_time": "2023-01-02T14:17:29.703356",
          "exception": false,
          "start_time": "2023-01-02T14:17:29.689184",
          "status": "completed"
        },
        "tags": [],
        "colab": {
          "base_uri": "https://localhost:8080/"
        },
        "id": "03e50630",
        "outputId": "4d0d4eb2-401c-4277-a374-0d66e23c1b75"
      },
      "outputs": [
        {
          "output_type": "stream",
          "name": "stdout",
          "text": [
            "Drive already mounted at /content/drive; to attempt to forcibly remount, call drive.mount(\"/content/drive\", force_remount=True).\n"
          ]
        }
      ],
      "source": [
        "import tensorflow as tf\n",
        "import pandas as pd\n",
        "import numpy as np\n",
        "import matplotlib.pyplot as plt\n",
        "\n",
        "from google.colab import drive\n",
        "from tensorflow.keras.models import Sequential\n",
        "from tensorflow.keras.layers import Embedding, LSTM, Dense, Conv1D, MaxPooling1D, GlobalMaxPooling1D, Dropout\n",
        "from tensorflow.keras.utils import to_categorical\n",
        "from tensorflow.keras.preprocessing.text import Tokenizer\n",
        "from tensorflow.keras.preprocessing.sequence import pad_sequences\n",
        "from sklearn.metrics import confusion_matrix, classification_report, cohen_kappa_score\n",
        "\n",
        "drive.mount('/content/drive')"
      ]
    },
    {
      "cell_type": "markdown",
      "id": "5b4dc376",
      "metadata": {
        "papermill": {
          "duration": 0.003911,
          "end_time": "2023-01-02T14:17:29.711499",
          "exception": false,
          "start_time": "2023-01-02T14:17:29.707588",
          "status": "completed"
        },
        "tags": [],
        "id": "5b4dc376"
      },
      "source": [
        "## 3. Dataset"
      ]
    },
    {
      "cell_type": "markdown",
      "id": "62a6a4bf",
      "metadata": {
        "papermill": {
          "duration": 0.004026,
          "end_time": "2023-01-02T14:17:29.719660",
          "exception": false,
          "start_time": "2023-01-02T14:17:29.715634",
          "status": "completed"
        },
        "tags": [],
        "id": "62a6a4bf"
      },
      "source": [
        "The dataset used in this notebook is [UCI ML Drug Review dataset](https://www.kaggle.com/datasets/jessicali9530/kuc-hackathon-winter-2018) which consist of data extracted from [Drugs.com](https://www.drugs.com/).\n",
        "\n",
        "The dataset contains the following information:\n",
        "\n",
        "*   ID of the review\n",
        "*   Name of the drug\n",
        "*   Reviewers condition\n",
        "*   Review\n",
        "*   Rating\n",
        "*   Date\n",
        "*   Usefulness of the review given by other users\n",
        "\n",
        "Useful data in terms of this notebook are the reviews itself and the corresponding ratings."
      ]
    },
    {
      "cell_type": "code",
      "source": [
        "# Reading of train and test sets as Pandas Dataframes from Google Drive\n",
        "train = pd.read_csv('/content/drive/Shareddrives/Neuroverkot/Juha/case3/drugsComTrain_raw.csv')\n",
        "test = pd.read_csv('/content/drive/Shareddrives/Neuroverkot/Juha/case3/drugsComTest_raw.csv')"
      ],
      "metadata": {
        "id": "rwyCUJvXbx_X"
      },
      "id": "rwyCUJvXbx_X",
      "execution_count": null,
      "outputs": []
    },
    {
      "cell_type": "code",
      "execution_count": null,
      "id": "f19f90f4",
      "metadata": {
        "execution": {
          "iopub.execute_input": "2023-01-02T14:17:29.730589Z",
          "iopub.status.busy": "2023-01-02T14:17:29.729717Z",
          "iopub.status.idle": "2023-01-02T14:17:29.734198Z",
          "shell.execute_reply": "2023-01-02T14:17:29.733451Z"
        },
        "papermill": {
          "duration": 0.01186,
          "end_time": "2023-01-02T14:17:29.736084",
          "exception": false,
          "start_time": "2023-01-02T14:17:29.724224",
          "status": "completed"
        },
        "tags": [],
        "colab": {
          "base_uri": "https://localhost:8080/",
          "height": 337
        },
        "id": "f19f90f4",
        "outputId": "be09f22a-3679-4363-ec7e-65de030d971c"
      },
      "outputs": [
        {
          "output_type": "execute_result",
          "data": {
            "text/plain": [
              "   uniqueID                  drugName                     condition  \\\n",
              "0    206461                 Valsartan  Left Ventricular Dysfunction   \n",
              "1     95260                Guanfacine                          ADHD   \n",
              "2     92703                    Lybrel                 Birth Control   \n",
              "3    138000                Ortho Evra                 Birth Control   \n",
              "4     35696  Buprenorphine / naloxone             Opiate Dependence   \n",
              "\n",
              "                                              review  rating       date  \\\n",
              "0  \"It has no side effect, I take it in combinati...       9  20-May-12   \n",
              "1  \"My son is halfway through his fourth week of ...       8  27-Apr-10   \n",
              "2  \"I used to take another oral contraceptive, wh...       5  14-Dec-09   \n",
              "3  \"This is my first time using any form of birth...       8   3-Nov-15   \n",
              "4  \"Suboxone has completely turned my life around...       9  27-Nov-16   \n",
              "\n",
              "   usefulCount  \n",
              "0           27  \n",
              "1          192  \n",
              "2           17  \n",
              "3           10  \n",
              "4           37  "
            ],
            "text/html": [
              "\n",
              "  <div id=\"df-74f200c1-d6cb-42ca-a27f-f7c6c7ac0b0a\">\n",
              "    <div class=\"colab-df-container\">\n",
              "      <div>\n",
              "<style scoped>\n",
              "    .dataframe tbody tr th:only-of-type {\n",
              "        vertical-align: middle;\n",
              "    }\n",
              "\n",
              "    .dataframe tbody tr th {\n",
              "        vertical-align: top;\n",
              "    }\n",
              "\n",
              "    .dataframe thead th {\n",
              "        text-align: right;\n",
              "    }\n",
              "</style>\n",
              "<table border=\"1\" class=\"dataframe\">\n",
              "  <thead>\n",
              "    <tr style=\"text-align: right;\">\n",
              "      <th></th>\n",
              "      <th>uniqueID</th>\n",
              "      <th>drugName</th>\n",
              "      <th>condition</th>\n",
              "      <th>review</th>\n",
              "      <th>rating</th>\n",
              "      <th>date</th>\n",
              "      <th>usefulCount</th>\n",
              "    </tr>\n",
              "  </thead>\n",
              "  <tbody>\n",
              "    <tr>\n",
              "      <th>0</th>\n",
              "      <td>206461</td>\n",
              "      <td>Valsartan</td>\n",
              "      <td>Left Ventricular Dysfunction</td>\n",
              "      <td>\"It has no side effect, I take it in combinati...</td>\n",
              "      <td>9</td>\n",
              "      <td>20-May-12</td>\n",
              "      <td>27</td>\n",
              "    </tr>\n",
              "    <tr>\n",
              "      <th>1</th>\n",
              "      <td>95260</td>\n",
              "      <td>Guanfacine</td>\n",
              "      <td>ADHD</td>\n",
              "      <td>\"My son is halfway through his fourth week of ...</td>\n",
              "      <td>8</td>\n",
              "      <td>27-Apr-10</td>\n",
              "      <td>192</td>\n",
              "    </tr>\n",
              "    <tr>\n",
              "      <th>2</th>\n",
              "      <td>92703</td>\n",
              "      <td>Lybrel</td>\n",
              "      <td>Birth Control</td>\n",
              "      <td>\"I used to take another oral contraceptive, wh...</td>\n",
              "      <td>5</td>\n",
              "      <td>14-Dec-09</td>\n",
              "      <td>17</td>\n",
              "    </tr>\n",
              "    <tr>\n",
              "      <th>3</th>\n",
              "      <td>138000</td>\n",
              "      <td>Ortho Evra</td>\n",
              "      <td>Birth Control</td>\n",
              "      <td>\"This is my first time using any form of birth...</td>\n",
              "      <td>8</td>\n",
              "      <td>3-Nov-15</td>\n",
              "      <td>10</td>\n",
              "    </tr>\n",
              "    <tr>\n",
              "      <th>4</th>\n",
              "      <td>35696</td>\n",
              "      <td>Buprenorphine / naloxone</td>\n",
              "      <td>Opiate Dependence</td>\n",
              "      <td>\"Suboxone has completely turned my life around...</td>\n",
              "      <td>9</td>\n",
              "      <td>27-Nov-16</td>\n",
              "      <td>37</td>\n",
              "    </tr>\n",
              "  </tbody>\n",
              "</table>\n",
              "</div>\n",
              "      <button class=\"colab-df-convert\" onclick=\"convertToInteractive('df-74f200c1-d6cb-42ca-a27f-f7c6c7ac0b0a')\"\n",
              "              title=\"Convert this dataframe to an interactive table.\"\n",
              "              style=\"display:none;\">\n",
              "        \n",
              "  <svg xmlns=\"http://www.w3.org/2000/svg\" height=\"24px\"viewBox=\"0 0 24 24\"\n",
              "       width=\"24px\">\n",
              "    <path d=\"M0 0h24v24H0V0z\" fill=\"none\"/>\n",
              "    <path d=\"M18.56 5.44l.94 2.06.94-2.06 2.06-.94-2.06-.94-.94-2.06-.94 2.06-2.06.94zm-11 1L8.5 8.5l.94-2.06 2.06-.94-2.06-.94L8.5 2.5l-.94 2.06-2.06.94zm10 10l.94 2.06.94-2.06 2.06-.94-2.06-.94-.94-2.06-.94 2.06-2.06.94z\"/><path d=\"M17.41 7.96l-1.37-1.37c-.4-.4-.92-.59-1.43-.59-.52 0-1.04.2-1.43.59L10.3 9.45l-7.72 7.72c-.78.78-.78 2.05 0 2.83L4 21.41c.39.39.9.59 1.41.59.51 0 1.02-.2 1.41-.59l7.78-7.78 2.81-2.81c.8-.78.8-2.07 0-2.86zM5.41 20L4 18.59l7.72-7.72 1.47 1.35L5.41 20z\"/>\n",
              "  </svg>\n",
              "      </button>\n",
              "      \n",
              "  <style>\n",
              "    .colab-df-container {\n",
              "      display:flex;\n",
              "      flex-wrap:wrap;\n",
              "      gap: 12px;\n",
              "    }\n",
              "\n",
              "    .colab-df-convert {\n",
              "      background-color: #E8F0FE;\n",
              "      border: none;\n",
              "      border-radius: 50%;\n",
              "      cursor: pointer;\n",
              "      display: none;\n",
              "      fill: #1967D2;\n",
              "      height: 32px;\n",
              "      padding: 0 0 0 0;\n",
              "      width: 32px;\n",
              "    }\n",
              "\n",
              "    .colab-df-convert:hover {\n",
              "      background-color: #E2EBFA;\n",
              "      box-shadow: 0px 1px 2px rgba(60, 64, 67, 0.3), 0px 1px 3px 1px rgba(60, 64, 67, 0.15);\n",
              "      fill: #174EA6;\n",
              "    }\n",
              "\n",
              "    [theme=dark] .colab-df-convert {\n",
              "      background-color: #3B4455;\n",
              "      fill: #D2E3FC;\n",
              "    }\n",
              "\n",
              "    [theme=dark] .colab-df-convert:hover {\n",
              "      background-color: #434B5C;\n",
              "      box-shadow: 0px 1px 3px 1px rgba(0, 0, 0, 0.15);\n",
              "      filter: drop-shadow(0px 1px 2px rgba(0, 0, 0, 0.3));\n",
              "      fill: #FFFFFF;\n",
              "    }\n",
              "  </style>\n",
              "\n",
              "      <script>\n",
              "        const buttonEl =\n",
              "          document.querySelector('#df-74f200c1-d6cb-42ca-a27f-f7c6c7ac0b0a button.colab-df-convert');\n",
              "        buttonEl.style.display =\n",
              "          google.colab.kernel.accessAllowed ? 'block' : 'none';\n",
              "\n",
              "        async function convertToInteractive(key) {\n",
              "          const element = document.querySelector('#df-74f200c1-d6cb-42ca-a27f-f7c6c7ac0b0a');\n",
              "          const dataTable =\n",
              "            await google.colab.kernel.invokeFunction('convertToInteractive',\n",
              "                                                     [key], {});\n",
              "          if (!dataTable) return;\n",
              "\n",
              "          const docLinkHtml = 'Like what you see? Visit the ' +\n",
              "            '<a target=\"_blank\" href=https://colab.research.google.com/notebooks/data_table.ipynb>data table notebook</a>'\n",
              "            + ' to learn more about interactive tables.';\n",
              "          element.innerHTML = '';\n",
              "          dataTable['output_type'] = 'display_data';\n",
              "          await google.colab.output.renderOutput(dataTable, element);\n",
              "          const docLink = document.createElement('div');\n",
              "          docLink.innerHTML = docLinkHtml;\n",
              "          element.appendChild(docLink);\n",
              "        }\n",
              "      </script>\n",
              "    </div>\n",
              "  </div>\n",
              "  "
            ]
          },
          "metadata": {},
          "execution_count": 3
        }
      ],
      "source": [
        "train.head()"
      ]
    },
    {
      "cell_type": "markdown",
      "id": "cf01834e",
      "metadata": {
        "papermill": {
          "duration": 0.003956,
          "end_time": "2023-01-02T14:17:29.744400",
          "exception": false,
          "start_time": "2023-01-02T14:17:29.740444",
          "status": "completed"
        },
        "tags": [],
        "id": "cf01834e"
      },
      "source": [
        "## 4. Preprocessing"
      ]
    },
    {
      "cell_type": "markdown",
      "id": "c05ac018",
      "metadata": {
        "papermill": {
          "duration": 0.004056,
          "end_time": "2023-01-02T14:17:29.752567",
          "exception": false,
          "start_time": "2023-01-02T14:17:29.748511",
          "status": "completed"
        },
        "tags": [],
        "id": "c05ac018"
      },
      "source": [
        "Preprocessing steps takens:\n",
        "- A tokenizer was created and the reviews were fit through it. This creates a word list of the most common 4000 words that appear in the data, in addition the tokenizer removes the special characters and formats the text to lowercase form.\n",
        "- A data sequence length of 100 is chosen so all reviews are truncated to 100 if longer or padded to 100 if shorter.\n",
        "- The review scores are categorized to \"negative\" if rating is below 5, \"neutral\" if rating is 5 or 6 and \"positive\" if rating is above 6. Finally these categories are one hot encoded."
      ]
    },
    {
      "cell_type": "code",
      "source": [
        "#Tokenization and data sequence specification for training set and the test set\n",
        "tokenizer = Tokenizer(num_words = 4000)\n",
        "tokenizer.fit_on_texts(train[\"review\"])\n",
        "sequences = tokenizer.texts_to_sequences(train[\"review\"])\n",
        "data = pad_sequences(sequences, maxlen = 100)\n",
        "\n",
        "test_tokenizer = Tokenizer(num_words = 4000)\n",
        "test_tokenizer.fit_on_texts(test[\"review\"])\n",
        "test_sequences = tokenizer.texts_to_sequences(test[\"review\"])\n",
        "test_data = pad_sequences(test_sequences, maxlen = 100)"
      ],
      "metadata": {
        "id": "NYdNAwzseaRW"
      },
      "id": "NYdNAwzseaRW",
      "execution_count": null,
      "outputs": []
    },
    {
      "cell_type": "code",
      "source": [
        "## Rescale rating values to be 0 if rating < 5, 1 if rating == 5 | 6, 2 if > 6 for both the test set and the training set\n",
        "\n",
        "train.loc[train[\"rating\"] < 5, \"rating\"] = 0\n",
        "train[\"rating\"] = np.where((train[\"rating\"] == 5) | (train[\"rating\"] == 6), 1, train[\"rating\"])\n",
        "train.loc[train[\"rating\"] > 6, \"rating\"] = 2\n",
        "\n",
        "test.loc[test[\"rating\"] < 5, \"rating\"] = 0\n",
        "test[\"rating\"] = np.where((test[\"rating\"] == 5) | (test[\"rating\"] == 6), 1, test[\"rating\"])\n",
        "test.loc[test[\"rating\"] > 6, \"rating\"] = 2"
      ],
      "metadata": {
        "id": "d2qqbWH1cBph"
      },
      "id": "d2qqbWH1cBph",
      "execution_count": null,
      "outputs": []
    },
    {
      "cell_type": "code",
      "source": [
        "#One hot encoding the rating categories\n",
        "ratings = train[\"rating\"].values\n",
        "ratings = to_categorical(ratings)\n",
        "\n",
        "\n",
        "test_ratings = test[\"rating\"].values\n",
        "test_ratings = to_categorical(test_ratings)\n",
        "test_ratings[:5]"
      ],
      "metadata": {
        "colab": {
          "base_uri": "https://localhost:8080/"
        },
        "id": "WSPQqt2QdqqF",
        "outputId": "41b0a551-4927-41bb-d1e6-a6e912021d56"
      },
      "id": "WSPQqt2QdqqF",
      "execution_count": null,
      "outputs": [
        {
          "output_type": "execute_result",
          "data": {
            "text/plain": [
              "array([[0., 0., 1.],\n",
              "       [0., 0., 1.],\n",
              "       [0., 0., 1.],\n",
              "       [0., 0., 1.],\n",
              "       [0., 0., 1.]], dtype=float32)"
            ]
          },
          "metadata": {},
          "execution_count": 6
        }
      ]
    },
    {
      "cell_type": "markdown",
      "id": "444615b0",
      "metadata": {
        "papermill": {
          "duration": 0.005591,
          "end_time": "2023-01-02T14:17:29.778260",
          "exception": false,
          "start_time": "2023-01-02T14:17:29.772669",
          "status": "completed"
        },
        "tags": [],
        "id": "444615b0"
      },
      "source": [
        "## 5. Modeling"
      ]
    },
    {
      "cell_type": "markdown",
      "id": "9dcb789c",
      "metadata": {
        "papermill": {
          "duration": 0.003991,
          "end_time": "2023-01-02T14:17:29.786552",
          "exception": false,
          "start_time": "2023-01-02T14:17:29.782561",
          "status": "completed"
        },
        "tags": [],
        "id": "9dcb789c"
      },
      "source": [
        "2 different models we chose for the problem are a Long short-term memory recurrent neural network (LSTM RNN) and a 1-dimensional convolutional neural network (1D CNN).\n",
        "\n",
        "With both models we used Categorical crossentropy for the loss functions. For RNN Nadam optimizer yielded slightly better results and for CNN adam was slightly better. \n",
        "\n",
        "The RNN model is a sequential model which consisted of an Embedding layer, LSTM layer with dropout and recurrent dropout and a Dense layer using softmax as the activation layer.\n",
        "\n",
        "The CNN model is a sequential model which consisted of an Embedding layer, Conv1D layer using ReLU, MaxPooling1D layer, another Conv1D layer with ReLU, GlobalMaxPooling1D layer and finally a Dense layer using softmax."
      ]
    },
    {
      "cell_type": "code",
      "execution_count": null,
      "id": "702311b4",
      "metadata": {
        "execution": {
          "iopub.execute_input": "2023-01-02T14:17:29.797123Z",
          "iopub.status.busy": "2023-01-02T14:17:29.796371Z",
          "iopub.status.idle": "2023-01-02T14:17:29.800186Z",
          "shell.execute_reply": "2023-01-02T14:17:29.799412Z"
        },
        "papermill": {
          "duration": 0.011542,
          "end_time": "2023-01-02T14:17:29.802227",
          "exception": false,
          "start_time": "2023-01-02T14:17:29.790685",
          "status": "completed"
        },
        "tags": [],
        "id": "702311b4"
      },
      "outputs": [],
      "source": [
        "#Building the models\n",
        "#LSTM RNN\n",
        "RNNmodel = Sequential()\n",
        "RNNmodel.add(Embedding(4000, 30, input_length = 100))\n",
        "RNNmodel.add(LSTM(20, dropout=0.2, recurrent_dropout=0.15))\n",
        "RNNmodel.add(Dense(3, activation='softmax'))\n",
        "\n",
        "#1D ConvNN\n",
        "convmodel = Sequential()\n",
        "convmodel.add(Embedding(4000, 32, input_length = 100))\n",
        "convmodel.add(Conv1D(32, 5, activation='relu'))\n",
        "convmodel.add(Dropout(0.1))\n",
        "convmodel.add(MaxPooling1D(3))\n",
        "convmodel.add(Conv1D(32, 5, activation='relu'))\n",
        "convmodel.add(GlobalMaxPooling1D())\n",
        "convmodel.add(Dense(3, activation='softmax'))"
      ]
    },
    {
      "cell_type": "code",
      "source": [
        "#Compiling the models\n",
        "RNNmodel.compile(optimizer='Nadam', loss='categorical_crossentropy', metrics=['acc'])\n",
        "\n",
        "convmodel.compile(optimizer='nadam', loss='categorical_crossentropy', metrics=['acc'])"
      ],
      "metadata": {
        "id": "3dPQLCWGeJE0"
      },
      "id": "3dPQLCWGeJE0",
      "execution_count": null,
      "outputs": []
    },
    {
      "cell_type": "code",
      "source": [
        "RNNmodel.summary()"
      ],
      "metadata": {
        "id": "ibxzw3eSeBLj",
        "colab": {
          "base_uri": "https://localhost:8080/"
        },
        "outputId": "a1eadee3-2f1c-4436-d856-ccb0cf3e1c5d"
      },
      "id": "ibxzw3eSeBLj",
      "execution_count": null,
      "outputs": [
        {
          "output_type": "stream",
          "name": "stdout",
          "text": [
            "Model: \"sequential\"\n",
            "_________________________________________________________________\n",
            " Layer (type)                Output Shape              Param #   \n",
            "=================================================================\n",
            " embedding (Embedding)       (None, 100, 30)           120000    \n",
            "                                                                 \n",
            " lstm (LSTM)                 (None, 20)                4080      \n",
            "                                                                 \n",
            " dense (Dense)               (None, 3)                 63        \n",
            "                                                                 \n",
            "=================================================================\n",
            "Total params: 124,143\n",
            "Trainable params: 124,143\n",
            "Non-trainable params: 0\n",
            "_________________________________________________________________\n"
          ]
        }
      ]
    },
    {
      "cell_type": "code",
      "source": [
        "convmodel.summary()"
      ],
      "metadata": {
        "id": "5iwTjw0yxmhx",
        "colab": {
          "base_uri": "https://localhost:8080/"
        },
        "outputId": "b54c2e61-b7c0-40eb-d384-39455891db01"
      },
      "id": "5iwTjw0yxmhx",
      "execution_count": null,
      "outputs": [
        {
          "output_type": "stream",
          "name": "stdout",
          "text": [
            "Model: \"sequential_1\"\n",
            "_________________________________________________________________\n",
            " Layer (type)                Output Shape              Param #   \n",
            "=================================================================\n",
            " embedding_1 (Embedding)     (None, 100, 32)           128000    \n",
            "                                                                 \n",
            " conv1d (Conv1D)             (None, 96, 32)            5152      \n",
            "                                                                 \n",
            " dropout (Dropout)           (None, 96, 32)            0         \n",
            "                                                                 \n",
            " max_pooling1d (MaxPooling1D  (None, 32, 32)           0         \n",
            " )                                                               \n",
            "                                                                 \n",
            " conv1d_1 (Conv1D)           (None, 28, 32)            5152      \n",
            "                                                                 \n",
            " global_max_pooling1d (Globa  (None, 32)               0         \n",
            " lMaxPooling1D)                                                  \n",
            "                                                                 \n",
            " dense_1 (Dense)             (None, 3)                 99        \n",
            "                                                                 \n",
            "=================================================================\n",
            "Total params: 138,403\n",
            "Trainable params: 138,403\n",
            "Non-trainable params: 0\n",
            "_________________________________________________________________\n"
          ]
        }
      ]
    },
    {
      "cell_type": "markdown",
      "id": "ee9f0cf8",
      "metadata": {
        "papermill": {
          "duration": 0.003982,
          "end_time": "2023-01-02T14:17:29.810609",
          "exception": false,
          "start_time": "2023-01-02T14:17:29.806627",
          "status": "completed"
        },
        "tags": [],
        "id": "ee9f0cf8"
      },
      "source": [
        "## 6. Training"
      ]
    },
    {
      "cell_type": "markdown",
      "id": "3b61927d",
      "metadata": {
        "papermill": {
          "duration": 0.003882,
          "end_time": "2023-01-02T14:17:29.818764",
          "exception": false,
          "start_time": "2023-01-02T14:17:29.814882",
          "status": "completed"
        },
        "tags": [],
        "id": "3b61927d"
      },
      "source": [
        "The CNN and RNN models are trained, both models train for around 10 minutes so it results in a good comparison."
      ]
    },
    {
      "cell_type": "code",
      "source": [
        "RNNhistory = RNNmodel.fit(data, ratings, epochs=9, batch_size=512, validation_split=0.2, verbose = -1)\n",
        "CNNhistory = convmodel.fit(data, ratings, epochs=15, batch_size=512, validation_split=0.2, verbose = -1)"
      ],
      "metadata": {
        "id": "8z0inSA0eSE4",
        "colab": {
          "base_uri": "https://localhost:8080/"
        },
        "outputId": "95fc160f-690e-4894-fcd9-eb17b69a6b74"
      },
      "id": "8z0inSA0eSE4",
      "execution_count": null,
      "outputs": [
        {
          "output_type": "stream",
          "name": "stdout",
          "text": [
            "Epoch 1/9\n",
            "Epoch 2/9\n",
            "Epoch 3/9\n",
            "Epoch 4/9\n",
            "Epoch 5/9\n",
            "Epoch 6/9\n",
            "Epoch 7/9\n",
            "Epoch 8/9\n",
            "Epoch 9/9\n",
            "Epoch 1/15\n",
            "Epoch 2/15\n",
            "Epoch 3/15\n",
            "Epoch 4/15\n",
            "Epoch 5/15\n",
            "Epoch 6/15\n",
            "Epoch 7/15\n",
            "Epoch 8/15\n",
            "Epoch 9/15\n",
            "Epoch 10/15\n",
            "Epoch 11/15\n",
            "Epoch 12/15\n",
            "Epoch 13/15\n",
            "Epoch 14/15\n",
            "Epoch 15/15\n"
          ]
        }
      ]
    },
    {
      "cell_type": "markdown",
      "id": "697d3c8a",
      "metadata": {
        "papermill": {
          "duration": 0.00391,
          "end_time": "2023-01-02T14:17:29.842976",
          "exception": false,
          "start_time": "2023-01-02T14:17:29.839066",
          "status": "completed"
        },
        "tags": [],
        "id": "697d3c8a"
      },
      "source": [
        "## 7. Performance and evaluation"
      ]
    },
    {
      "cell_type": "markdown",
      "id": "eafe8b3d",
      "metadata": {
        "papermill": {
          "duration": 0.00389,
          "end_time": "2023-01-02T14:17:29.851074",
          "exception": false,
          "start_time": "2023-01-02T14:17:29.847184",
          "status": "completed"
        },
        "tags": [],
        "id": "eafe8b3d"
      },
      "source": [
        "As we can read from the following graphs depicting the validation loss and the validation accuracy of both the RNN and CNN mdels, the models are not overfitting, but on the contrary, the validation accuracy could possibly benefit from even more training. In the end as the goal of the project was to compare between the models so we ended the training at around 10 minute mark resulting in decent models."
      ]
    },
    {
      "cell_type": "code",
      "source": [
        "acc = CNNhistory.history['acc']\n",
        "val_acc = CNNhistory.history['val_acc']\n",
        "time = np.arange(len(acc)) + 1\n",
        "\n",
        "plt.plot(time, acc, label='train')\n",
        "plt.plot(time, val_acc, label='validation')\n",
        "plt.title('CNN Accuracy')\n",
        "plt.xlabel('Epoch')\n",
        "plt.legend()\n",
        "\n",
        "plt.show()\n",
        "\n",
        "loss = CNNhistory.history['loss']\n",
        "val_loss = CNNhistory.history['val_loss']\n",
        "time = np.arange(len(loss)) + 1\n",
        "\n",
        "\n",
        "plt.plot(time, loss, label='train')\n",
        "plt.plot(time, val_loss, label='validation')\n",
        "plt.title('Loss')\n",
        "plt.xlabel('Epoch')\n",
        "plt.legend()\n",
        "\n",
        "plt.show()"
      ],
      "metadata": {
        "colab": {
          "base_uri": "https://localhost:8080/",
          "height": 573
        },
        "id": "cT0jFHxcAM4S",
        "outputId": "2f16d955-8eef-46a2-87a5-9130f9c291d1"
      },
      "id": "cT0jFHxcAM4S",
      "execution_count": null,
      "outputs": [
        {
          "output_type": "display_data",
          "data": {
            "text/plain": [
              "<Figure size 432x288 with 1 Axes>"
            ],
            "image/png": "[encoded data removed]"
          },
          "metadata": {
            "needs_background": "light"
          }
        },
        {
          "output_type": "display_data",
          "data": {
            "text/plain": [
              "<Figure size 432x288 with 1 Axes>"
            ],
            "image/png": "[encoded data removed]"
          },
          "metadata": {
            "needs_background": "light"
          }
        }
      ]
    },
    {
      "cell_type": "code",
      "source": [
        "acc = RNNhistory.history['acc']\n",
        "val_acc = RNNhistory.history['val_acc']\n",
        "time = np.arange(len(acc)) + 1\n",
        "\n",
        "plt.plot(time, acc, label='train')\n",
        "plt.plot(time, val_acc, label='validation')\n",
        "plt.title('RNNAccuracy')\n",
        "plt.xlabel('Epoch')\n",
        "plt.legend()\n",
        "\n",
        "plt.show()\n",
        "\n",
        "loss = RNNhistory.history['loss']\n",
        "val_loss = RNNhistory.history['val_loss']\n",
        "time = np.arange(len(loss)) + 1\n",
        "\n",
        "\n",
        "plt.plot(time, loss, label='train')\n",
        "plt.plot(time, val_loss, label='validation')\n",
        "plt.title('Loss')\n",
        "plt.xlabel('Epoch')\n",
        "plt.legend()\n",
        "\n",
        "plt.show()"
      ],
      "metadata": {
        "id": "4aWpOqG9f5IM",
        "colab": {
          "base_uri": "https://localhost:8080/",
          "height": 573
        },
        "outputId": "a3737c93-427a-4a06-9279-423ae5763460"
      },
      "id": "4aWpOqG9f5IM",
      "execution_count": null,
      "outputs": [
        {
          "output_type": "display_data",
          "data": {
            "text/plain": [
              "<Figure size 432x288 with 1 Axes>"
            ],
            "image/png": "[encoded data removed]"
          },
          "metadata": {
            "needs_background": "light"
          }
        },
        {
          "output_type": "display_data",
          "data": {
            "text/plain": [
              "<Figure size 432x288 with 1 Axes>"
            ],
            "image/png": "[encoded data removed]"
          },
          "metadata": {
            "needs_background": "light"
          }
        }
      ]
    },
    {
      "cell_type": "markdown",
      "source": [
        "Applying the models to a test set:"
      ],
      "metadata": {
        "id": "X6aojzUcuWLP"
      },
      "id": "X6aojzUcuWLP"
    },
    {
      "cell_type": "code",
      "source": [
        "CNNpredictions = np.argmax(convmodel.predict(test_data), axis = 1)\n",
        "RNNpredictions = np.argmax(RNNmodel.predict(test_data), axis = 1)\n",
        "test_labels = np.argmax(test_ratings, axis = 1)\n",
        "\n",
        "print('cnn predictions: \\n', CNNpredictions[:30])\n",
        "print('rnn predictions: \\n', RNNpredictions[:30])\n",
        "print('real values: \\n', test_labels[:30])"
      ],
      "metadata": {
        "colab": {
          "base_uri": "https://localhost:8080/"
        },
        "id": "PqVS1DOSH9O-",
        "outputId": "bd319301-d7c1-4884-bbf6-06e65a90936d"
      },
      "id": "PqVS1DOSH9O-",
      "execution_count": null,
      "outputs": [
        {
          "output_type": "stream",
          "name": "stdout",
          "text": [
            "1681/1681 [==============================] - 4s 2ms/step\n",
            "1681/1681 [==============================] - 17s 10ms/step\n",
            "cnn predictions: \n",
            " [2 2 2 2 2 2 0 2 2 0 0 2 0 2 0 2 2 0 2 2 2 2 0 0 2 1 2 2 2 2]\n",
            "rnn predictions: \n",
            " [2 2 2 2 2 2 0 2 2 0 0 2 0 2 2 2 2 0 2 2 2 2 2 0 1 2 2 2 0 2]\n",
            "real values: \n",
            " [2 2 2 2 2 0 1 2 2 0 0 1 0 2 0 2 2 0 1 2 0 2 0 0 2 1 2 2 2 2]\n"
          ]
        }
      ]
    },
    {
      "cell_type": "code",
      "source": [
        "CNNcr = classification_report(test_labels,CNNpredictions)\n",
        "print(CNNcr)"
      ],
      "metadata": {
        "colab": {
          "base_uri": "https://localhost:8080/"
        },
        "id": "b4uoGoo2vqP6",
        "outputId": "faf13263-7966-497c-d73c-89a7e28b224c"
      },
      "id": "b4uoGoo2vqP6",
      "execution_count": null,
      "outputs": [
        {
          "output_type": "stream",
          "name": "stdout",
          "text": [
            "              precision    recall  f1-score   support\n",
            "\n",
            "           0       0.79      0.79      0.79     13497\n",
            "           1       0.56      0.25      0.35      4829\n",
            "           2       0.88      0.94      0.91     35440\n",
            "\n",
            "    accuracy                           0.84     53766\n",
            "   macro avg       0.74      0.66      0.68     53766\n",
            "weighted avg       0.83      0.84      0.83     53766\n",
            "\n"
          ]
        }
      ]
    },
    {
      "cell_type": "code",
      "source": [
        "RNNcr = classification_report(test_labels,RNNpredictions)\n",
        "print(RNNcr)"
      ],
      "metadata": {
        "colab": {
          "base_uri": "https://localhost:8080/"
        },
        "id": "WRVbcStev5Xf",
        "outputId": "1d4e5bb3-426f-4788-f1f7-fbebe91093a6"
      },
      "id": "WRVbcStev5Xf",
      "execution_count": null,
      "outputs": [
        {
          "output_type": "stream",
          "name": "stdout",
          "text": [
            "              precision    recall  f1-score   support\n",
            "\n",
            "           0       0.70      0.75      0.73     13497\n",
            "           1       0.29      0.07      0.11      4829\n",
            "           2       0.85      0.92      0.88     35440\n",
            "\n",
            "    accuracy                           0.80     53766\n",
            "   macro avg       0.61      0.58      0.57     53766\n",
            "weighted avg       0.76      0.80      0.77     53766\n",
            "\n"
          ]
        }
      ]
    },
    {
      "cell_type": "markdown",
      "source": [
        "Here are the confusion matrices for both models:"
      ],
      "metadata": {
        "id": "7jQDv03eqUIu"
      },
      "id": "7jQDv03eqUIu"
    },
    {
      "cell_type": "code",
      "source": [
        "# Calculate the confusion matrix\n",
        "CNNcm = confusion_matrix(test_labels,CNNpredictions).T\n",
        "print('CNN confusion matrix: \\n',CNNcm)\n",
        "RNNcm = confusion_matrix(test_labels,RNNpredictions).T\n",
        "print('\\nRNN confusion matrix: \\n',RNNcm)"
      ],
      "metadata": {
        "colab": {
          "base_uri": "https://localhost:8080/"
        },
        "id": "fNTv7aJ0HtWk",
        "outputId": "d2828f59-9381-4eba-d8f8-2fe4c51ec08e"
      },
      "id": "fNTv7aJ0HtWk",
      "execution_count": null,
      "outputs": [
        {
          "output_type": "stream",
          "name": "stdout",
          "text": [
            "CNN confusion matrix: \n",
            " [[10710  1273  1504]\n",
            " [  453  1217   518]\n",
            " [ 2334  2339 33418]]\n",
            "\n",
            "RNN confusion matrix: \n",
            " [[10175  1691  2576]\n",
            " [  390   333   430]\n",
            " [ 2932  2805 32434]]\n"
          ]
        }
      ]
    },
    {
      "cell_type": "markdown",
      "source": [
        "We can read from these Cohen's Kappa values that the CNN model is performing better for this problem."
      ],
      "metadata": {
        "id": "YOtlQUHJqXdB"
      },
      "id": "YOtlQUHJqXdB"
    },
    {
      "cell_type": "code",
      "execution_count": null,
      "id": "6ae01648",
      "metadata": {
        "execution": {
          "iopub.execute_input": "2023-01-02T14:17:29.861285Z",
          "iopub.status.busy": "2023-01-02T14:17:29.860919Z",
          "iopub.status.idle": "2023-01-02T14:17:29.864437Z",
          "shell.execute_reply": "2023-01-02T14:17:29.863764Z"
        },
        "papermill": {
          "duration": 0.010911,
          "end_time": "2023-01-02T14:17:29.866284",
          "exception": false,
          "start_time": "2023-01-02T14:17:29.855373",
          "status": "completed"
        },
        "tags": [],
        "id": "6ae01648",
        "colab": {
          "base_uri": "https://localhost:8080/"
        },
        "outputId": "cfc96299-156d-4c00-a974-08dc6b6cc44b"
      },
      "outputs": [
        {
          "output_type": "stream",
          "name": "stdout",
          "text": [
            "CNN kappa:  0.6641812908638727\n",
            "RNN kappa:  0.5648909191592035\n",
            "CNN quadratic kappa:  0.7521515405313534\n",
            "RNN quadratic kappa:  0.6672240647999894\n"
          ]
        }
      ],
      "source": [
        "CNN_c_kappa = cohen_kappa_score(CNNpredictions, test_labels)\n",
        "CNN_c_kappa2 = cohen_kappa_score(CNNpredictions, test_labels, weights = 'quadratic')\n",
        "RNN_c_kappa = cohen_kappa_score(RNNpredictions, test_labels)\n",
        "RNN_c_kappa2 = cohen_kappa_score(RNNpredictions, test_labels, weights = 'quadratic')\n",
        "print('CNN kappa: ',CNN_c_kappa)\n",
        "print('RNN kappa: ',RNN_c_kappa)\n",
        "print('CNN quadratic kappa: ',CNN_c_kappa2)\n",
        "print('RNN quadratic kappa: ',RNN_c_kappa2)"
      ]
    },
    {
      "cell_type": "markdown",
      "id": "cf0fd295",
      "metadata": {
        "papermill": {
          "duration": 0.004075,
          "end_time": "2023-01-02T14:17:29.874493",
          "exception": false,
          "start_time": "2023-01-02T14:17:29.870418",
          "status": "completed"
        },
        "tags": [],
        "id": "cf0fd295"
      },
      "source": [
        "## 8. Discussion and conclusions"
      ]
    },
    {
      "cell_type": "markdown",
      "source": [
        "Conducted experiments:\n",
        "  - Depth of LSTM layer\n",
        "  - Embedding dimensions\n",
        "  - Optimizer\n",
        "  - Word list length\n",
        "  - Data sequence length\n",
        "  - Epoch count\n",
        "  - Different batch sizes, 256/512/2048\n",
        "  - Dropout vs no dropout, different dropout and recurrent dropout values (0.05/0.1/0.2)\n",
        "  - Multiple LSTM layers\n",
        "<br><br>The following Excel sheet depicts the validation accuracies with different hyperparameters ran on a RNN test model:"
      ],
      "metadata": {
        "id": "QY940l1xq02m"
      },
      "id": "QY940l1xq02m"
    },
    {
      "cell_type": "markdown",
      "source": [
        "![image.png](data:image/png;base64,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)"
      ],
      "metadata": {
        "id": "wFoBjWe_7YCQ"
      },
      "id": "wFoBjWe_7YCQ"
    },
    {
      "cell_type": "markdown",
      "source": [
        "Our first thoughts were that the RNN model would perform better on this task but the Convolutional 1D Neural Network performed better.\n",
        "\n",
        "Comparing the performance of the models to a dummy classifier, ~66% of all the datapoints in the test set belong to class 2 so a dummy classifier we are comparing to sorts with an accuracy of 66%. From the classification reports printed above at chapter 7 we can see that the CNN model has an accuracy of ~84% and RNN model has an accuracy of ~80%.\n",
        "\n",
        "In the future the model could be experimented more with and made more complex for example by using both Conv1D and MaxPooling layers aswell as LSTM layers in the same model. Also adding more Dense layers could be worth experimenting with.\n",
        "\n",
        "Main learning points from the project were the general use of both conv1D and LSTM RNN models for neural networks dealing with text based data. Cohen's kappa score was also a new metric for assessing a model. The final best model created reached a Cohen's kappa score of ~0.664."
      ],
      "metadata": {
        "id": "FGKFNlvxtDs-"
      },
      "id": "FGKFNlvxtDs-"
    }
  ],
  "metadata": {
    "kernelspec": {
      "display_name": "Python 3",
      "language": "python",
      "name": "python3"
    },
    "language_info": {
      "codemirror_mode": {
        "name": "ipython",
        "version": 3
      },
      "file_extension": ".py",
      "mimetype": "text/x-python",
      "name": "python",
      "nbconvert_exporter": "python",
      "pygments_lexer": "ipython3",
      "version": "3.7.12"
    },
    "papermill": {
      "default_parameters": {},
      "duration": 8.760615,
      "end_time": "2023-01-02T14:17:30.415524",
      "environment_variables": {},
      "exception": null,
      "input_path": "__notebook__.ipynb",
      "output_path": "__notebook__.ipynb",
      "parameters": {},
      "start_time": "2023-01-02T14:17:21.654909",
      "version": "2.3.4"
    },
    "colab": {
      "provenance": []
    }
  },
  "nbformat": 4,
  "nbformat_minor": 5
}